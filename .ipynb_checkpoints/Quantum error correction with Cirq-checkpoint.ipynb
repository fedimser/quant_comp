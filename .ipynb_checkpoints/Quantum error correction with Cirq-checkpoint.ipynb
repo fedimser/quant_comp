{
 "cells": [
  {
   "cell_type": "markdown",
   "metadata": {},
   "source": [
    "### Introduction\n",
    "\n",
    "This notebook is my excercise with to purposes: learn Cirq and learn quantum error correction.\n",
    "\n",
    "It is based on material in Chapter 10 of \"Quantum Computation and Quantum Informaton\" by Nielsen and Chuang.\n",
    "\n",
    "### The problem\n",
    "\n",
    "Suppose we have bit-flip channel, which applies with probaility $p_0$ operator X on qubit. We have qubit $|\\psi> = \\alpha |0> + \\beta |1>$ and we want to pass it through this channel. We assume that we can use perfect (not-faulty) gates.\n"
   ]
  },
  {
   "cell_type": "markdown",
   "metadata": {},
   "source": [
    "### The framework\n",
    "\n",
    "There is qubit $| \\psi >$. We allowed to \"encode\" it, by applying certain cirquit which produces one or more qubits.\n",
    "Then these qubits are passed (independently) throw faulty channel. Then we allowed to \"decode\" result by applying another circuit to received cubits. It should producr one qubit. Finally, we check whether this is the same qubit as the one we started with. We repeat this many times with different (random) $| \\psi >$ and measure error rate $p_1$. We will change $p_0$ and see how $p_1$ changes.\n",
    "\n",
    "Let's build this framework and test it with no encoding-decoding. Obviosly, we expect $p_1=p_0$.\n",
    "\n",
    "\n",
    "**How do we generate initial state?**\n",
    "\n",
    "Any qubit state corresponds to a point on Bloch sphere. Let's generate random $\\theta \\in [0, \\pi]$ and $\\phi \\in [0, 2 \\pi]$. Then state is $ | \\psi\\rangle= \\cos(\\theta/2) |0 \\rangle + e^{i \\phi} \\sin(\\theta/2) |1 \\rangle$. To get it from \n",
    "$| 0 \\rangle$, apply gate defined by unitary matrix:\n",
    "\n",
    "$$\\begin{pmatrix}\n",
    "   \\cos(\\frac{\\theta}{2}) & -\\sin(\\frac{\\theta}{2}) \\\\\n",
    "   e^{i \\phi} \\sin(\\frac{\\theta}{2}) & e^{i \\phi} \\cos(\\frac{\\theta}{2})\n",
    "  \\end{pmatrix} $$\n",
    "  \n",
    "Cartesian coordinates of this state on the bloch sphere are $(\\sin(\\theta) \\cos(\\phi), \\sin(\\theta) \\sin(\\phi), \\cos(\\theta))$.\n",
    "\n",
    "\n",
    "\n"
   ]
  },
  {
   "cell_type": "code",
   "execution_count": 147,
   "metadata": {},
   "outputs": [
    {
     "data": {
      "image/png": "[encoded data removed]",
      "text/plain": [
       "<Figure size 432x288 with 1 Axes>"
      ]
     },
     "metadata": {},
     "output_type": "display_data"
    }
   ],
   "source": [
    "import numpy as np\n",
    "from matplotlib import pyplot as plt\n",
    "import cirq\n",
    "\n",
    "class BaseQecProtocol:\n",
    "    def __init__(self):\n",
    "        self.name = 'No encoding'\n",
    "    \n",
    "    def encode(self, circuit, qubit):\n",
    "        return [qubit]\n",
    "    \n",
    "    def decode(self, circuit, qubits):\n",
    "        return qubits[0]\n",
    "\n",
    "class BitFlipChannel:\n",
    "    def __init__(self, flip_prob):\n",
    "        self.flip_prob = flip_prob\n",
    "        \n",
    "    def transmit(self, ct, q):\n",
    "        if np.random.rand() < self.flip_prob:\n",
    "            ct.append(cirq.X(q))\n",
    "        return q\n",
    "\n",
    "# Transmits random qubit using given channel and protocol and returns if transmission was successful.\n",
    "# If output is passed, writes there circuit.\n",
    "def test_protocol_once(protocol, channel, output=None):\n",
    "    # Generate qubit (in Bloch sphere notation).\n",
    "    theta = np.random.rand() * np.pi\n",
    "    phi = np.random.rand() * 2*np.pi\n",
    "\n",
    "    # Coordinates on Bloch sphere (for asserion in the end of experiment).\n",
    "    init_bloch_coords = np.array([np.sin(theta)*np.cos(phi), \n",
    "                                  np.sin(theta)*np.sin(phi), \n",
    "                                  np.cos(theta)])\n",
    "\n",
    "    # Create cirquit with one qubit and initialize it to generated state.\n",
    "    ct = cirq.Circuit()\n",
    "    q_init = cirq.NamedQubit('q_init')\n",
    "    U0 = np.array([[np.cos(0.5 * theta), -np.sin(0.5*theta)], \n",
    "                  [np.exp(1j * phi) * np.sin(0.5 * theta), np.exp(1j*phi) * np.cos(0.5*theta)]])\n",
    "    ct.append(cirq.SingleQubitMatrixGate(U0).on(q_init))\n",
    "\n",
    "    # Encode.\n",
    "    encoded_qubits = protocol.encode(ct, q_init)\n",
    "\n",
    "    # Transmit.\n",
    "    transmitted_qubits = [channel.transmit(ct, q) for q in encoded_qubits]\n",
    "\n",
    "    # Decode.\n",
    "    decoded_qubit = protocol.decode(ct, transmitted_qubits)\n",
    "\n",
    "    # Simulate cirquit to get final state of decoded qubit.\n",
    "    sim = cirq.Simulator()\n",
    "    sim.simulate(ct)\n",
    "    result = sim.simulate(ct)\n",
    "    result_bloch_coords = result.bloch_vector_of(decoded_qubit)\n",
    "    \n",
    "    # Protocol should ensurre that decoded_qubit is not entangled with other qubits.\n",
    "    if not np.allclose(np.linalg.norm(result_bloch_coords), 1.0):\n",
    "        raise ValueError(\"Not pure state %s\" % result_bloch_coords)\n",
    "        \n",
    "    if output != None:\n",
    "        output['circuit'] = ct\n",
    "\n",
    "    # Return whether qubit state was correctly transmitted.\n",
    "    return np.linalg.norm(result_bloch_coords - init_bloch_coords) < 1e-5\n",
    "\n",
    "# Experimentally calculates failure rate of error correcting protocol.\n",
    "def test_protocol(protocol, channel, num_experiments=100):\n",
    "    ok_count = sum([test_protocol_once(protocol, channel) for _ in range(num_experiments)])\n",
    "    return 1.0 - 1.0 * ok_count  / num_experiments\n",
    "          \n",
    "def plot_errors(protocol, num_points=21, num_experiments=100, theoretical=None):\n",
    "    channel_error = np.linspace(0, 1, num_points)\n",
    "    protocol_error = [test_protocol(protocol, BitFlipChannel(p), num_experiments=num_experiments)\n",
    "                      for p in channel_error]\n",
    "    plt.plot(channel_error, protocol_error, label='Experiment')\n",
    "    plt.xlabel('Channel error')\n",
    "    plt.ylabel('Protocol error')\n",
    "    plt.title(protocol.name)\n",
    "    \n",
    "    if not theoretical is None:\n",
    "        plt.plot(channel_error, theoretical(channel_error), '--', label='Theory')\n",
    "    plt.legend()\n",
    "    plt.grid()\n",
    "    plt.show()\n",
    "    \n",
    "plot_errors(BaseQecProtocol(), num_experiments=200, theoretical=lambda x:x)"
   ]
  },
  {
   "cell_type": "markdown",
   "metadata": {},
   "source": [
    "### The three qubit bit flip code\n",
    "\n",
    "This part is based on Chapter 10.1.1 from \"Quantum Computation and Quantum Informaton\" by Nielsen and Chuang.\n",
    "\n",
    "** Encoding **\n",
    "We will map $| 0 \\rangle$ to $| 000 \\rangle$ and  $| 1 \\rangle$ to $| 111 \\rangle$, which can be done using 2 CNOT gates.\n",
    "\n",
    "This way, $\\alpha | 0 \\rangle + \\beta | 1 \\rangle$ is encoded as $\\alpha | 000 \\rangle + \\beta | 111 \\rangle$.\n",
    "\n",
    "** Decoding **\n",
    "Assume that not more than one bit flips occured. Then there are 4 options:\n",
    "\n",
    "1. No bit flip occured. State after transmission $\\alpha | 000 \\rangle + \\beta | 111 \\rangle$.\n",
    "2. First bit flipped. State after transmission $\\alpha | 100 \\rangle + \\beta | 011 \\rangle$.\n",
    "3. Second bit flipped. State after transmission $\\alpha | 010 \\rangle + \\beta | 101 \\rangle$.\n",
    "4. Third bit flipped. State after transmission $\\alpha | 001 \\rangle + \\beta | 110 \\rangle$.\n",
    "\n",
    "Book suggests to do a measurement to do a measurement which distingusishes these 4 states and does not changes state. Indeed, these 4 cases correspond to 4 orthonal subspaces, and we could take projectors on these subspaces as measurement opertors.\n",
    "\n",
    "However, how to implement such measurement. One way to implement measurement not in computational basis is to apply unitary transform, after which measurement in computational basis will give desired result. For example, if we want to meaure in basis $|+ \\rangle, |- \\rangle$, we could apply Hadamard gate and measure in $|0 \\rangle, |1 \\rangle$ basis.\n",
    "\n",
    "Let's explicitly design such transformation, by saying where should it take one of 4 possible outcomes:\n",
    "\n",
    "$\\alpha | 000 \\rangle + \\beta | 111 \\rangle \\to (\\alpha |0 \\rangle + \\beta |1 \\rangle) | 00 \\rangle$\n",
    "\n",
    "$\\alpha | 100 \\rangle + \\beta | 011 \\rangle \\to (\\alpha |0 \\rangle + \\beta |1 \\rangle) | 11 \\rangle$\n",
    "\n",
    "$\\alpha | 010 \\rangle + \\beta | 101 \\rangle \\to (\\alpha |0 \\rangle + \\beta |1 \\rangle) | 10 \\rangle$\n",
    "\n",
    "$\\alpha | 001 \\rangle + \\beta | 110 \\rangle \\to (\\alpha |0 \\rangle + \\beta |1 \\rangle) | 01 \\rangle$\n",
    "\n",
    "Now by doing measurement in computational basis for two rightmost qubits we obtain result of measurement which we initially wanted, and measurement wouldn't change the state.\n",
    "\n",
    "Then we could apply inverse transformation and use mesurement result to decide which bit was flipped (if any), and flip it.\n",
    "\n",
    "But we don't need to do all this, as after this transformation we see that regarless of which bit was flipped, leftmost qubit is already equal to qubit we want to restore. So, we just need to apply transformation, and we don't need to do any measurements.\n",
    "\n",
    "So, how do we build this transformation? It is, in fact, a permutation:\n",
    "\n",
    "$\\alpha | 000 \\rangle \\to | 000 \\rangle$\n",
    "\n",
    "$\\alpha | 001 \\rangle \\to | 001 \\rangle$\n",
    "\n",
    "$\\alpha | 010 \\rangle \\to | 010 \\rangle$\n",
    "\n",
    "$\\alpha | 011 \\rangle \\to | 111 \\rangle$\n",
    "\n",
    "$\\alpha | 100 \\rangle \\to | 011 \\rangle$\n",
    "\n",
    "$\\alpha | 101 \\rangle \\to | 110 \\rangle$\n",
    "\n",
    "$\\alpha | 110 \\rangle \\to | 101 \\rangle$\n",
    "\n",
    "$\\alpha | 111 \\rangle \\to | 100 \\rangle$\n",
    "\n",
    "All is left is to represent it as matrix and decompose it into X and CCNOT gates: "
   ]
  },
  {
   "cell_type": "code",
   "execution_count": 148,
   "metadata": {
    "collapsed": true
   },
   "outputs": [],
   "source": [
    "import quantum_decomp as qd"
   ]
  },
  {
   "cell_type": "code",
   "execution_count": 149,
   "metadata": {},
   "outputs": [
    {
     "data": {
      "text/plain": [
       "[X on bit 1,\n",
       " X on bit 0, fully controlled,\n",
       " X on bit 1,\n",
       " X on bit 1, fully controlled,\n",
       " X on bit 0, fully controlled,\n",
       " X on bit 0,\n",
       " X on bit 2, fully controlled,\n",
       " X on bit 0,\n",
       " X on bit 2,\n",
       " X on bit 0, fully controlled,\n",
       " X on bit 0,\n",
       " X on bit 2,\n",
       " X on bit 2, fully controlled,\n",
       " X on bit 0,\n",
       " X on bit 1,\n",
       " X on bit 0, fully controlled,\n",
       " X on bit 1,\n",
       " X on bit 1, fully controlled,\n",
       " X on bit 0, fully controlled]"
      ]
     },
     "execution_count": 149,
     "metadata": {},
     "output_type": "execute_result"
    }
   ],
   "source": [
    "qd.matrix_to_gates(np.array([\n",
    "    [1,0,0,0,0,0,0,0],\n",
    "    [0,1,0,0,0,0,0,0],\n",
    "    [0,0,1,0,0,0,0,0],\n",
    "    [0,0,0,0,1,0,0,0],\n",
    "    [0,0,0,0,0,0,0,1],\n",
    "    [0,0,0,0,0,0,1,0],\n",
    "    [0,0,0,0,0,1,0,0],\n",
    "    [0,0,0,1,0,0,0,0]\n",
    "]))"
   ]
  },
  {
   "cell_type": "markdown",
   "metadata": {},
   "source": [
    "Here I have used my [utility for decomposing unitary matrix](https://github.com/fedimser/quantum_decomp).\n",
    "\n",
    "Let's implement new protocol:"
   ]
  },
  {
   "cell_type": "code",
   "execution_count": 150,
   "metadata": {
    "collapsed": true
   },
   "outputs": [],
   "source": [
    "class ThreeQubitBitFlipProtocol(BaseQecProtocol):\n",
    "    def __init__(self):\n",
    "        self.name = '3 qubit bit flip protocol'\n",
    "    \n",
    "    def encode(self, circuit, qubit):\n",
    "        q0 = cirq.NamedQubit('aux_0')\n",
    "        q1 = cirq.NamedQubit('aux_1')\n",
    "        circuit.append(cirq.CNOT(qubit, q0))\n",
    "        circuit.append(cirq.CNOT(qubit, q1))\n",
    "        return [qubit, q0, q1]\n",
    "    \n",
    "    def decode(self, circuit, qubits):        \n",
    "        def X(target):\n",
    "            circuit.append(cirq.X(qubits[target]))\n",
    "        \n",
    "        def CCNOT(target):\n",
    "            i1, i2 = 1, 2\n",
    "            if target == 1:  i1, i2 = 0, 2\n",
    "            if target == 2:  i1, i2 = 0, 1\n",
    "            circuit.append(cirq.CCNOT(qubits[i1], qubits[i2], qubits[target]))\n",
    "            \n",
    "        X(1)\n",
    "        CCNOT(0)\n",
    "        X(1)\n",
    "        CCNOT(1)\n",
    "        CCNOT(0)\n",
    "        X(0)\n",
    "        CCNOT(2)\n",
    "        X(0)\n",
    "        X(2)\n",
    "        CCNOT(0)\n",
    "        X(0)\n",
    "        X(2)\n",
    "        CCNOT(2)\n",
    "        X(0)\n",
    "        X(1)\n",
    "        CCNOT(0)\n",
    "        X(1)\n",
    "        CCNOT(1)\n",
    "        CCNOT(0)\n",
    "        \n",
    "        return qubits[2]"
   ]
  },
  {
   "cell_type": "markdown",
   "metadata": {},
   "source": [
    "Before doing experiment, let's calculate theoretical error rate for protocol. Protocol fails if 2 or 3 qubits were flipped. Each qubit is flipped independently with probability $p$, so probability of such event is $3p^2(1-p) + p^3$."
   ]
  },
  {
   "cell_type": "code",
   "execution_count": 139,
   "metadata": {},
   "outputs": [
    {
     "data": {
      "image/png": "[encoded data removed]",
      "text/plain": [
       "<Figure size 432x288 with 1 Axes>"
      ]
     },
     "metadata": {},
     "output_type": "display_data"
    }
   ],
   "source": [
    "plot_errors(ThreeQubitBitFlipProtocol(), \n",
    "            num_experiments=1000, \n",
    "            num_points=41, \n",
    "            theoretical=lambda x:3*x**2*(1-x)+x**3)"
   ]
  },
  {
   "cell_type": "markdown",
   "metadata": {},
   "source": [
    "Let's look how cirquit for the whole protocol looks like. Let's say that channel"
   ]
  },
  {
   "cell_type": "code",
   "execution_count": 152,
   "metadata": {},
   "outputs": [
    {
     "name": "stdout",
     "output_type": "stream",
     "text": [
      "aux_0: ────────────────────────────────────X───X───@───X───X───@───────@───────@───────@───X───@───X───X───@───\n",
      "                                           │       │       │   │       │       │       │       │       │   │\n",
      "aux_1: ────────────────────────────────────┼───X───@───────@───@───────X───X───@───X───X───────@───────@───@───\n",
      "                                           │   │   │       │   │       │       │       │       │       │   │\n",
      "           ┌                           ┐   │   │   │       │   │       │       │       │       │       │   │\n",
      "q_init: ───│ 0.978+0.j    -0.21 +0.j   │───@───@───X───────@───X───X───@───X───X───X───@───X───X───────@───X───\n",
      "           │-0.192+0.086j -0.892+0.401j│\n",
      "           └                           ┘\n"
     ]
    }
   ],
   "source": [
    "data = {}\n",
    "test_protocol_once(ThreeQubitBitFlipProtocol(), BitFlipChannel(0.05), output=data)\n",
    "print(data['circuit'])"
   ]
  },
  {
   "cell_type": "markdown",
   "metadata": {},
   "source": [
    "To be continued..."
   ]
  }
 ],
 "metadata": {
  "kernelspec": {
   "display_name": "Python 3",
   "language": "python",
   "name": "python3"
  },
  "language_info": {
   "codemirror_mode": {
    "name": "ipython",
    "version": 3
   },
   "file_extension": ".py",
   "mimetype": "text/x-python",
   "name": "python",
   "nbconvert_exporter": "python",
   "pygments_lexer": "ipython3",
   "version": "3.6.8"
  }
 },
 "nbformat": 4,
 "nbformat_minor": 2
}
