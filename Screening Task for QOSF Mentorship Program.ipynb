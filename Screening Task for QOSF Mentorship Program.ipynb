{
 "cells": [
  {
   "cell_type": "markdown",
   "id": "e76a2063",
   "metadata": {},
   "source": [
    "# Screening Task for QOSF Mentorship Program\n",
    "\n",
    "Dmytro Fedoriaka, October 2024.\n",
    "\n",
    "*This is my solution to a screening task of cohort 10 of the [Quantum Open Source Foundation](https://qosf.org/) Mentoship Program.*\n",
    "\n",
    "## Problem statement\n",
    "\n",
    "Implement a quantum circuit on 5 qubits that represents the state vector\n",
    "\n",
    "$$| \\psi \\rangle  = \n",
    "\\frac{1}{2}(| 22 \\rangle + | 17 \\rangle  + | 27 \\rangle  + | 12 \\rangle )=\n",
    "\\frac{1}{2}(| 10110 \\rangle + | 10001 \\rangle  + | 11011 \\rangle  + | 01100 \\rangle )$$\n",
    "\n",
    "using basis_gates [X,H,Rz,CX] and architecture where these qubits are pairwise connected: `[(0,1),(0,4),(1,4),(4,2),(4,3),(2,3)]`.\n",
    "\n",
    "Below is the code describing the state to implement:"
   ]
  },
  {
   "cell_type": "code",
   "execution_count": 1,
   "id": "9828d05e",
   "metadata": {},
   "outputs": [
    {
     "name": "stdout",
     "output_type": "stream",
     "text": [
      "10110\n",
      "10001\n",
      "11011\n",
      "01100\n"
     ]
    },
    {
     "data": {
      "text/plain": [
       "array([0. , 0. , 0. , 0. , 0. , 0. , 0. , 0. , 0. , 0. , 0. , 0. , 0.5,\n",
       "       0. , 0. , 0. , 0. , 0.5, 0. , 0. , 0. , 0. , 0.5, 0. , 0. , 0. ,\n",
       "       0. , 0.5, 0. , 0. , 0. , 0. ])"
      ]
     },
     "execution_count": 1,
     "metadata": {},
     "output_type": "execute_result"
    }
   ],
   "source": [
    "import numpy as np\n",
    "size = 5\n",
    "state_values = [22,17,27,12]\n",
    "state_vector = [0]*2**size\n",
    "for s in state_values:\n",
    "  print(np.binary_repr(s,size))\n",
    "  state_vector[s] = 0.5\n",
    "np.asarray(state_vector)"
   ]
  },
  {
   "cell_type": "markdown",
   "id": "a939b9eb",
   "metadata": {},
   "source": [
    "## Solution method\n",
    "\n",
    "The given state has a special form $\\frac{1}{2} \\sum_{i=0}^{3} |s_i \\rangle$. Let's call such state a \"4-balanced\" state. This solution will find circuits only for 4-balanced states. We assume that initial state is $|00000 \\rangle$ and use Little-endian notation.\n",
    "\n",
    "With two qubits we could get state $\\frac{1}{2} (|00 \\rangle+|01 \\rangle+|10 \\rangle+|11 \\rangle) = |++ \\rangle$ by acting with Hadamard gate on each qubit. For larger number of qubits we can try to act with 2 Hadamard gates on some 2 qubits, getting 4-balanced state, and then apply a permutation operator (i.e. an operator whose unitary matrix is a permutation matrix):\n",
    "\n",
    "$$ U_{CIRCUIT} = H_{i_1} \\otimes H_{i_2} \\otimes U_{PERM}$$\n",
    "\n",
    "Consider set of all 4-balanced states. For 5 qubits, there are only $C_{32}^{4}=35960$ of these states. Any permutation operator maps 4-balanced state into a 4-balanced state. Gates $X$ and $CNOT$ are permutation operators. So, we can consider a graph where vertices are 4-balanced states and there is an edge between two states if one can be mapped to other by X or CNOT (taking into account only those CNOTs that are allowed by the given architecture). Then we can try to find a shortest path from $| \\psi \\rangle$ to any of vertexes\n",
    "$H_{i_1} \\otimes H_{i_2} |00000 \\rangle$. \n",
    "\n",
    "Unfortunately, for given $| \\psi \\rangle$ this will not work because all states $H_{i_1} \\otimes H_{i_2} |00000 \\rangle$ are unreachable from $| \\psi \\rangle$ in this graph. \n",
    "\n",
    "However, we can extend the set of permutation gates with the Toffoli gate (also known as CCNOT gate). This is a permutation gate and we can apply it to any triple of qubits that are fully connected. This gate is not in the set of allowed gates, but there is well-known decomposition of this gate into gates $H, T, T^\\dagger $ and $CNOT$ gates (see [Wikipedia](https://en.wikipedia.org/wiki/Toffoli_gate)). And we know that $T = e^{i \\pi/8} R_z(\\pi / 4)$, $T^\\dagger = e^{-i \\pi/8} R_z(-\\pi / 4)$, so up to global phase we can replace $T$ with   $R_z(\\pi / 4)$ and $T^\\dagger$ with $R_z(-\\pi / 4)$. This way we might get a state that differs from desired state in a global phase, but this will be the same physical state.\n",
    "\n",
    "Now we need to take into account that Toffoli is much more expensive gate than X and CCNOT. Its circuit made of elementary gates has depth 11. So, now our graph needs to be weighted: X and CCNOT gate have weight 1, and Toffoli gate has weight 11. We can use Dijkstra algorithm to find shortest paths from $| \\psi \\rangle$ to all reachable states, and then pick one of states $H_{i_1} \\otimes H_{i_2} |00000 \\rangle$ that has the shortest distance from $|\\psi \\rangle$.\n",
    "\n",
    "So, here is the decomposition algorithm:\n",
    "* Construct permutations for all allowed X, CNOT and Toffoli gates.\n",
    "* Construct a graph of 4-balanced states.\n",
    "* Find shortest path from $|\\psi \\rangle$ to any of $H_{i_1} \\otimes H_{i_2} |00000 \\rangle$  states.\n",
    "* Restore gates from the path (in reversed order), and prepend two Hadamard gates corresponding to the final state.\n",
    "* If the solution contains Toffoli gates, expand them to elementary gates ($H, CNOT, R_z$)."
   ]
  },
  {
   "cell_type": "markdown",
   "id": "ba04c943",
   "metadata": {},
   "source": [
    "## Solution\n",
    "\n",
    "This solution is self-contained and doesn't use any quantum computing libraries. For simplicity, the answer is given as list of gate names."
   ]
  },
  {
   "cell_type": "code",
   "execution_count": 2,
   "id": "c3baca14",
   "metadata": {},
   "outputs": [
    {
     "name": "stdout",
     "output_type": "stream",
     "text": [
      "Explored 35960 states.\n",
      "Found circuit of depth 17.\n",
      "ANSWER: ['H(1)', 'H(3)', 'CNOT(3,4)', 'CNOT(1,4)', 'Toffoli(1,4,0)', 'X(0)', 'CNOT(4,2)', 'X(4)']\n",
      "Time 1.07s\n"
     ]
    }
   ],
   "source": [
    "import numpy as np\n",
    "from itertools import product\n",
    "import heapq\n",
    "import time\n",
    "\n",
    "N = 5 # Number of qubits.\n",
    "\n",
    "def get_bit(state_number, bit_id):\n",
    "  # Little endian.\n",
    "  return (state_number>>(N-1-bit_id)) % 2\n",
    "\n",
    "def mask_for_bit(bit_id):\n",
    "  return 1<<(N-1-bit_id)\n",
    "\n",
    "def is_permutation(p):\n",
    "  return list(sorted(p)) == list(range(2**N))\n",
    "\n",
    "def permutation_for_X(target_bit):\n",
    "  assert 0 <= target_bit < N\n",
    "  target_bit_mask = mask_for_bit(target_bit)\n",
    "  perm = np.array([i^target_bit_mask for i in range(2**N)])\n",
    "  assert is_permutation(perm)\n",
    "  return perm\n",
    "\n",
    "def permutation_for_CNOT(ctrl_bit, target_bit):\n",
    "  assert 0 <= ctrl_bit < N\n",
    "  assert 0 <= target_bit < N\n",
    "  assert ctrl_bit != target_bit\n",
    "  target_bit_mask = mask_for_bit(target_bit)\n",
    "  perm = np.array([s ^ (target_bit_mask * get_bit(s, ctrl_bit)) for s in range(2**N)])\n",
    "  assert is_permutation(perm)\n",
    "  return perm\n",
    "\n",
    "def permutation_for_Toffoli(ctrl_bit_1, ctrl_bit_2, target_bit):\n",
    "  target_bit_mask = mask_for_bit(target_bit)\n",
    "  perm = np.array([s ^ (target_bit_mask * get_bit(s, ctrl_bit_1) * get_bit(s, ctrl_bit_2))\n",
    "                   for s in range(2**N)])\n",
    "  assert is_permutation(perm)\n",
    "  return perm\n",
    "    \n",
    "def basis_ids_to_mask(basis_ids):\n",
    "  return sum(1<<i for i in basis_ids)\n",
    "\n",
    "def mask_to_basis_ids(mask):\n",
    "  return [i for i in range(2**N) if (mask>>i)%2==1]  \n",
    "\n",
    "# Finds a circuit implementing state 0.5(|s0>+|s1>+|s2>+|s3>), where basis_ids_to_implement=[s0,s1,s2,s3].\n",
    "# This circuit will contain only H (exatly two), X, CNOT and Toffoli gates.\n",
    "# `coupling` is list of pairs of qubit indexes, denoting coupled qubits.\n",
    "# Only CNOTs on coupled qubits will be used. \n",
    "# Toffoli gate will be used only if all 3 qubits the gate acts on are pairwise coupled.\n",
    "def find_circuit(basis_ids_to_implement, couplings=None):\n",
    "  assert len(basis_ids_to_implement) == 4\n",
    "  for i in basis_ids_to_implement:\n",
    "     assert 0 <= i < 2**N\n",
    "  \n",
    "  couplings = couplings or []\n",
    "  couplings_matrix = np.zeros((N,N), dtype=bool)\n",
    "  for i, j in couplings:\n",
    "    couplings_matrix[i,j]=couplings_matrix[j,i]=True\n",
    "\n",
    "  # Prepare all permutations for X, CNOT and Toffoli gates.\n",
    "  gate_names = []\n",
    "  gate_perms = []\n",
    "  gate_costs = []\n",
    "  for i1 in range(5):\n",
    "    gate_names.append(f\"X({i1})\")\n",
    "    gate_perms.append(permutation_for_X(i1))\n",
    "    gate_costs.append(1)\n",
    "  for i1, i2 in product(list(range(N)),list(range(N))):\n",
    "    if couplings_matrix[i1,i2]:\n",
    "      gate_names.append(f\"CNOT({i1},{i2})\")\n",
    "      gate_perms.append(permutation_for_CNOT(i1, i2))\n",
    "      gate_costs.append(1)\n",
    "  for i1, i2, i3 in product(list(range(N)),list(range(N)),list(range(N))):\n",
    "    if couplings_matrix[i1,i2] and couplings_matrix[i2,i3] and couplings_matrix[i1,i3] and i1<i2:\n",
    "      gate_names.append(f\"Toffoli({i1},{i2},{i3})\")\n",
    "      gate_perms.append(permutation_for_Toffoli(i1, i2, i3))\n",
    "      gate_costs.append(11) # Depth of circuit (of H,CNOT and Rz) implementing Toffoli.\n",
    "\n",
    "  def generate_transitions(cur_state):\n",
    "    basis_ids = mask_to_basis_ids(cur_state)\n",
    "    for gate_id, perm in enumerate(gate_perms):\n",
    "      next_state = sum(1<<perm[j] for j in basis_ids)\n",
    "      yield next_state, gate_id  \n",
    "\n",
    "  # Prepare final states (H_i ⊗ H_j).\n",
    "  final_states = dict()    \n",
    "  for i1, i2 in product(list(range(N)),list(range(N))):\n",
    "    if i1 >= i2:\n",
    "      continue\n",
    "    mask = mask_for_bit(i1) | mask_for_bit(i2)\n",
    "    state = [s for s in range(2**N) if (s | mask) == mask]\n",
    "    assert len(state) == 4\n",
    "    final_states[basis_ids_to_mask(state)] = [f\"H({i1})\",f\"H({i2})\"]\n",
    "\n",
    "  # Dijkstra algorithm.\n",
    "  initial_state = basis_ids_to_mask(basis_ids_to_implement)\n",
    "  dist = dict()\n",
    "  prev_state_and_gate = dict() \n",
    "  dist[initial_state] = 0\n",
    "  pq = []\n",
    "  heapq.heappush(pq, (0,initial_state))\n",
    "  while len(pq)>0:\n",
    "    cur_dist = pq[0][0]\n",
    "    cur_state = pq[0][1]\n",
    "    heapq.heappop(pq)\n",
    "    if cur_dist != dist[cur_state]:\n",
    "      continue\n",
    "    for next_state, gate_id in generate_transitions(cur_state):\n",
    "      next_dist = dist[cur_state] + gate_costs[gate_id]\n",
    "      if next_state not in dist or next_dist < dist[next_state]:\n",
    "        dist[next_state] = next_dist\n",
    "        prev_state_and_gate[next_state] = (cur_state, gate_id)\n",
    "        heapq.heappush(pq, (next_dist, next_state))\n",
    "\n",
    "  # Restore the shortest path.\n",
    "  min_dist = None\n",
    "  best_final_state = None\n",
    "  for final_state in final_states.keys():\n",
    "    if final_state in dist and (min_dist is None or dist[final_state] < min_dist):\n",
    "      min_dist = dist[final_state]\n",
    "      best_final_state = final_state  \n",
    "  print(\"Explored %d states.\" % (len(dist)))    \n",
    "  if best_final_state is None:\n",
    "    print(\"Circuit not found.\")\n",
    "    return None\n",
    "  print(f\"Found circuit of depth {min_dist+1}.\")  # Add 1 to account for step with H gates.\n",
    "  ans = []\n",
    "  state = best_final_state\n",
    "  while state != initial_state:\n",
    "    state, gate_id = prev_state_and_gate[state]\n",
    "    ans.append(gate_names[gate_id])\n",
    "  return final_states[best_final_state] + ans\n",
    "      \n",
    "t0 = time.time() \n",
    "circuit = find_circuit(state_values, couplings=[(0,1),(0,4),(1,4),(4,2),(4,3),(2,3)])\n",
    "print(\"ANSWER:\", circuit)\n",
    "print(\"Time %.02fs\" % (time.time() - t0))"
   ]
  },
  {
   "cell_type": "markdown",
   "id": "3f080a0a",
   "metadata": {},
   "source": [
    "## Verification\n",
    "\n",
    "First, let's show the resulting circuit with Toffoli gate and check that it implements the required state.\n",
    "\n",
    "Cirq is used only for verification and to display the circuit. Cirq only does very simple optimization of compacting gates, so multiple gates can be done at one step, which reduces circuit depth. Below I am manually constructing the circuit using output of my decomposition algorithm."
   ]
  },
  {
   "cell_type": "code",
   "execution_count": 3,
   "id": "99dac049",
   "metadata": {},
   "outputs": [
    {
     "name": "stdout",
     "output_type": "stream",
     "text": [
      "0: ───────────────X───X───────\n",
      "                  │\n",
      "1: ───H───────@───@───────────\n",
      "              │   │\n",
      "2: ───────────┼───┼───X───────\n",
      "              │   │   │\n",
      "3: ───H───@───┼───┼───┼───────\n",
      "          │   │   │   │\n",
      "4: ───────X───X───@───@───X───\n",
      "Circuit depth: 6\n",
      "Non-zero coefficients for basis states:  [12, 17, 22, 27]\n",
      "OK\n"
     ]
    }
   ],
   "source": [
    "import cirq\n",
    "\n",
    "def verify_circuit(ct):\n",
    "  print(ct)\n",
    "  vec = cirq.final_state_vector(ct)\n",
    "  print(\"Circuit depth:\", len(cirq.Circuit(ct.all_operations())))  \n",
    "  print(\"Non-zero coefficients for basis states: \", [i for i in range(2**N) if abs(vec[i])>1e-7])\n",
    "  assert cirq.equal_up_to_global_phase(state_vector, vec, atol=1e-7)\n",
    "  print(\"OK\")\n",
    "  \n",
    "ct = cirq.Circuit()\n",
    "q = cirq.LineQubit.range(N) \n",
    "ct.append(cirq.H.on(q[1]))\n",
    "ct.append(cirq.H.on(q[3]))\n",
    "ct.append(cirq.CNOT.on(q[3], q[4]))\n",
    "ct.append(cirq.CNOT.on(q[1], q[4]))\n",
    "ct.append(cirq.TOFFOLI.on(q[1], q[4], q[0]))\n",
    "ct.append(cirq.X.on(q[0]))\n",
    "ct.append(cirq.CNOT.on(q[4], q[2]))\n",
    "ct.append(cirq.X.on(q[4]))\n",
    "verify_circuit(ct)"
   ]
  },
  {
   "cell_type": "markdown",
   "id": "f82da51f",
   "metadata": {},
   "source": [
    "Now, let's expand the Toffoli gate using the known decomposition."
   ]
  },
  {
   "cell_type": "code",
   "execution_count": 4,
   "id": "f8146c6c",
   "metadata": {},
   "outputs": [
    {
     "name": "stdout",
     "output_type": "stream",
     "text": [
      "0: ───H───────────X───Rz(-0.25π)───X───Rz(0.25π)───X───Rz(-0.25π)───X───Rz(0.25π)───H────────────X───────────\n",
      "                  │                │               │                │\n",
      "1: ───H───────@───┼────────────────@───────────────┼────────────────@───@───────────Rz(0.25π)────@───────────\n",
      "              │   │                                │                    │                        │\n",
      "2: ───────────┼───┼────────────────────────────────┼────────────────────┼────────────────────────┼───X───────\n",
      "              │   │                                │                    │                        │   │\n",
      "3: ───H───@───┼───┼────────────────────────────────┼────────────────────┼────────────────────────┼───┼───────\n",
      "          │   │   │                                │                    │                        │   │\n",
      "4: ───────X───X───@────────────────────────────────@───Rz(0.25π)────────X───────────Rz(-0.25π)───X───@───X───\n",
      "Circuit depth: 15\n",
      "Non-zero coefficients for basis states:  [12, 17, 22, 27]\n",
      "OK\n"
     ]
    }
   ],
   "source": [
    "def implement_toffoli(q0,q1,q2):\n",
    "  H = cirq.H\n",
    "  CX = cirq.CNOT\n",
    "  T = cirq.Rz(rads=np.pi/4)\n",
    "  return [\n",
    "    H.on(q2),CX.on(q1,q2),T.on(q2)**-1,CX.on(q0,q2),T.on(q2),CX.on(q1,q2),\n",
    "    T.on(q2)**-1,CX.on(q0,q2),T.on(q1),T.on(q2),CX.on(q0,q1),H.on(q2),T.on(q0),T.on(q1)**-1,CX.on(q0,q1)\n",
    "  ] \n",
    "\n",
    "ct = cirq.Circuit()\n",
    "q = cirq.LineQubit.range(N) \n",
    "ct.append(cirq.H.on(q[1]))\n",
    "ct.append(cirq.H.on(q[3]))\n",
    "ct.append(cirq.CNOT.on(q[3], q[4]))\n",
    "ct.append(cirq.CNOT.on(q[1], q[4]))\n",
    "ct += implement_toffoli(q[1], q[4], q[0])\n",
    "ct.append(cirq.X.on(q[0]))\n",
    "ct.append(cirq.CNOT.on(q[4], q[2]))\n",
    "ct.append(cirq.X.on(q[4]))\n",
    "verify_circuit(ct)"
   ]
  },
  {
   "cell_type": "markdown",
   "id": "eb35a641",
   "metadata": {},
   "source": [
    "## Conclusion\n",
    "\n",
    "* We found a circuit implementing given state of depth 15, having 22 gates (9 CNOT gates, 4 Hadamard gates, 2 X gates and 7 Rz gates).\n",
    "* The Dijkstra algorithm reported that it explored all 35960 states, so the graph is connected. This means that the proposed algorithm can be used to decompose any 4-balanced state (under given architecture). This is not true if we remove the Toffoli gate."
   ]
  }
 ],
 "metadata": {
  "kernelspec": {
   "display_name": "Python 3 (ipykernel)",
   "language": "python",
   "name": "python3"
  },
  "language_info": {
   "codemirror_mode": {
    "name": "ipython",
    "version": 3
   },
   "file_extension": ".py",
   "mimetype": "text/x-python",
   "name": "python",
   "nbconvert_exporter": "python",
   "pygments_lexer": "ipython3",
   "version": "3.12.3"
  }
 },
 "nbformat": 4,
 "nbformat_minor": 5
}
