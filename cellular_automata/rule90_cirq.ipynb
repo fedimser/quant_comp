{
 "cells": [
  {
   "cell_type": "markdown",
   "id": "9ef637c7",
   "metadata": {},
   "source": [
    "## Rule 90 in Cirq\n",
    "\n",
    "In this example we will build circuit for Elementary Cellular Automaton given by Rule 90 and simulate it on (Clifford) quantum simulator.\n",
    "\n",
    "First, let's simulate state with only one bit set for different number of iterations. To create initial state, we act with X gate on qubit which represnts that bit."
   ]
  },
  {
   "cell_type": "code",
   "execution_count": 1,
   "id": "4c3c3a36",
   "metadata": {},
   "outputs": [
    {
     "data": {
      "text/plain": [
       "<matplotlib.image.AxesImage at 0x7fd1f3960b50>"
      ]
     },
     "execution_count": 1,
     "metadata": {},
     "output_type": "execute_result"
    },
    {
     "data": {
      "image/png": "[encoded data removed]",
      "text/plain": [
       "<Figure size 432x288 with 1 Axes>"
      ]
     },
     "metadata": {
      "needs_background": "light"
     },
     "output_type": "display_data"
    }
   ],
   "source": [
    "import cirq\n",
    "from matplotlib import pyplot as plt\n",
    "from quantum_eca import circuit_for_eca, ECA, BorderCondition\n",
    "\n",
    "N = 30\n",
    "max_steps = 20\n",
    "\n",
    "qubits = cirq.LineQubit.range(N)\n",
    "results = []\n",
    "ca = ECA(90, BorderCondition.FIXED)\n",
    "\n",
    "for steps in range(max_steps):\n",
    "    circuit = cirq.Circuit()\n",
    "    circuit += cirq.X(qubits[N//2])\n",
    "    for i in range(steps):\n",
    "        circuit += circuit_for_eca(ca, qubits)\n",
    "    circuit += [cirq.measure(q) for q in qubits]\n",
    "    sim = cirq.CliffordSimulator()    \n",
    "    result = sim.simulate(circuit).measurements\n",
    "    results.append([result[str(i)][0] for i in range(N)])\n",
    "    \n",
    "plt.imshow(results)"
   ]
  },
  {
   "cell_type": "markdown",
   "id": "e03e801b",
   "metadata": {},
   "source": [
    "## Simulating superposition of states\n",
    "\n",
    "Let's demonstrate that using quantum computer we can evolve multiple states at the same state, by evolvoing superposition of them. Let's take N=10 and consider two states - where only 4-th bit is set and only 5-th qubit is set. let's build superposition of this states, wach with coefficient $\\frac{1}{\\sqrt{2}}$ and apply  5 times circuit for Rule 90."
   ]
  },
  {
   "cell_type": "code",
   "execution_count": 2,
   "id": "b863bbab",
   "metadata": {},
   "outputs": [
    {
     "name": "stdout",
     "output_type": "stream",
     "text": [
      "0.71|0100000101⟩ + 0.71|1010000010⟩\n"
     ]
    }
   ],
   "source": [
    "qubits = cirq.LineQubit.range(10)\n",
    "circuit = cirq.Circuit()\n",
    "circuit += cirq.H(qubits[4])\n",
    "circuit += cirq.CNOT(qubits[4], qubits[5])\n",
    "circuit += cirq.X(qubits[5])\n",
    "for i in range(5):\n",
    "    circuit += circuit_for_eca(ca, qubits)\n",
    "    \n",
    "sim = cirq.CliffordSimulator()    \n",
    "result = sim.simulate(circuit).final_state\n",
    "print(result)"
   ]
  },
  {
   "cell_type": "markdown",
   "id": "6e7a8f59",
   "metadata": {},
   "source": [
    "As expected, final state is superposition of 2 states, each of which is result of evolution of corresponding initial state for 5 steps."
   ]
  }
 ],
 "metadata": {
  "kernelspec": {
   "display_name": "Python 3",
   "language": "python",
   "name": "python3"
  },
  "language_info": {
   "codemirror_mode": {
    "name": "ipython",
    "version": 3
   },
   "file_extension": ".py",
   "mimetype": "text/x-python",
   "name": "python",
   "nbconvert_exporter": "python",
   "pygments_lexer": "ipython3",
   "version": "3.8.10"
  }
 },
 "nbformat": 4,
 "nbformat_minor": 5
}
