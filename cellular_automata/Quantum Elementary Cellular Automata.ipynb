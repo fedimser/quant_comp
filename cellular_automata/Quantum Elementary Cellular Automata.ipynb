{
 "cells": [
  {
   "cell_type": "markdown",
   "id": "74eb86d4",
   "metadata": {},
   "source": [
    "# Quantum Elementary Cellular Automata\n",
    "\n",
    "*Dmytro Fedoriaka, November 2021*\n",
    "\n",
    "**Abstract.** In this notebook we identify full list of Elementary Cellular Automata rules which can be simulated using reversible quantum computation (there are 22 of them) and for every such rule find corresponding quantum circuit."
   ]
  },
  {
   "cell_type": "markdown",
   "id": "113fe876",
   "metadata": {},
   "source": [
    "## 1.Introduction\n",
    "\n",
    "### Elementary Cellular Automata\n",
    "\n",
    "**Elementary Cellular Automaton** ([wikipedia](https://en.wikipedia.org/wiki/Elementary_cellular_automaton), [wolfram](https://mathworld.wolfram.com/ElementaryCellularAutomaton.html)) is 1-dimensional cellular automata. It consists of $N$ cells in a row, each being in state 0 or 1. State of cell on next iteration is defined by a state of this cell and its 2 neigbors on previous iteration.\n",
    "\n",
    "**Rules.** There are $2^3=8$ possible combinations of state of cell and its neigbors, and to fully define transition rule we ned for every combination specify new state (0 or 1). Therefore, there are $2^8=256$ possible rules and they can be codified by integers from 0 to 255. These integers fully define transitions and are referred to as \"[Wolfram codes](https://en.wikipedia.org/wiki/Wolfram_code)\" or simply \"rules\". So, there are in total 256 different Elementary Cellular Automata.\n",
    "\n",
    "**Border conditions.** To fully define transitions in case of finite $N$ we need to define border conditions. We will consider 2 of them:\n",
    "\n",
    "* **Periodic**. Leftmost and rightmost cells are considered neighbors.\n",
    "* **Fixed**. We consider that to the left of first cell and to the right of right cell there is a cell in state 0 which is never updated.\n",
    "\n",
    "\n",
    "### Simulating ECA by a quantum cirquit\n",
    "\n",
    "We represent ECA by a registed of $N$ qubits. Quantum state |0> of qubit to represent classical state 0 of cell and quantum state |1> represents classical state 1 of cell. Therefore, each of $2^N$ basis states of quantum register correspond to all possible states of classical ECA. We want for given rule find such a unitary that, when applied to given state, transorms it exactly like classical rule.\n",
    "\n",
    "In this notebook we don't consider superpositions of basis states and there are no measurements.\n",
    "\n",
    "### Objective\n",
    "\n",
    "Objective of this notebook is to find all rules for which it's in principle possible to find corresponding unitary, and for all of them provide instruction how to construct this unitary as a quantum circuit made of $O(N)$ quantum gates acting only on 1,2 or 3 qubits."
   ]
  },
  {
   "cell_type": "markdown",
   "id": "ee82db55",
   "metadata": {},
   "source": [
    "## 2. Finding all reversible rules\n",
    "\n",
    "From our definitions it follows that unitary matrix must map basis states to basis states. Unitary matrix with such property is permutation matrix. So, only a rule which enacts permutation on set of all classical states of ECA can be made into unitary matrix. Indeed, if rule transforms two states A and B into the same state C, it's not reversible, but quantum computation must be reversible.\n",
    "\n",
    "We use brute force approach to find all reversible rules. For this we check all 256 rules and 2 border conditions. For every of them consider all $2^N$ classical states (encoded as ointegers from 0 to $2^N-1$), and for every of them consider $f(s)$ - encoded state to which rule takes state $s$. Then we check if sequence $0, 1, \\dots, d(2^N-1)$ is a permutation. \n",
    "\n",
    "We repeat this for a range of $N$ and we hypothesise that if this is a permutation for small $N$, it will be for all $N$. We don't have to prove this hypothesis, because this step is used only to quickly discard irreversible rules. Below for every reversible rule we will construct a unitary and by doing that prove that it's reversible."
   ]
  },
  {
   "cell_type": "code",
   "execution_count": 1,
   "id": "7b78d04b",
   "metadata": {},
   "outputs": [
    {
     "name": "stdout",
     "output_type": "stream",
     "text": [
      "BorderCondition.FIXED\n",
      "Rule 51 is reversible when n=[4, 5, 6, 7, 8, 9]\n",
      "Rule 60 is reversible when n=[4, 5, 6, 7, 8, 9]\n",
      "Rule 90 is reversible when n=[4, 6, 8]\n",
      "Rule 102 is reversible when n=[4, 5, 6, 7, 8, 9]\n",
      "Rule 105 is reversible when n=[4, 6, 7, 9]\n",
      "Rule 150 is reversible when n=[4, 6, 7, 9]\n",
      "Rule 153 is reversible when n=[4, 5, 6, 7, 8, 9]\n",
      "Rule 165 is reversible when n=[4, 6, 8]\n",
      "Rule 195 is reversible when n=[4, 5, 6, 7, 8, 9]\n",
      "Rule 204 is reversible when n=[4, 5, 6, 7, 8, 9]\n",
      "BorderCondition.PERIODIC\n",
      "Rule 15 is reversible when n=[4, 5, 6, 7, 8, 9]\n",
      "Rule 45 is reversible when n=[5, 7, 9]\n",
      "Rule 51 is reversible when n=[4, 5, 6, 7, 8, 9]\n",
      "Rule 75 is reversible when n=[5, 7, 9]\n",
      "Rule 85 is reversible when n=[4, 5, 6, 7, 8, 9]\n",
      "Rule 89 is reversible when n=[5, 7, 9]\n",
      "Rule 101 is reversible when n=[5, 7, 9]\n",
      "Rule 105 is reversible when n=[4, 5, 7, 8]\n",
      "Rule 150 is reversible when n=[4, 5, 7, 8]\n",
      "Rule 154 is reversible when n=[5, 7, 9]\n",
      "Rule 166 is reversible when n=[5, 7, 9]\n",
      "Rule 170 is reversible when n=[4, 5, 6, 7, 8, 9]\n",
      "Rule 180 is reversible when n=[5, 7, 9]\n",
      "Rule 204 is reversible when n=[4, 5, 6, 7, 8, 9]\n",
      "Rule 210 is reversible when n=[5, 7, 9]\n",
      "Rule 240 is reversible when n=[4, 5, 6, 7, 8, 9]\n"
     ]
    }
   ],
   "source": [
    "from quantum_eca import BorderCondition, ECA\n",
    "\n",
    "def is_permutation(p):\n",
    "    return len(set(p))==len(p)\n",
    "\n",
    "for bc in BorderCondition:\n",
    "    print(bc)\n",
    "    for rule in range(256):\n",
    "        good_ns = []\n",
    "        for n in range(4, 10): # 20\n",
    "            ca = ECA(rule, bc)\n",
    "            p = ca.get_explicit_state_transitions(n)\n",
    "            if is_permutation(p):\n",
    "                good_ns.append(n) \n",
    "        if len(good_ns) > 0:\n",
    "            print(\"Rule %d is reversible when n=%s\" % (rule, good_ns))"
   ]
  },
  {
   "cell_type": "markdown",
   "id": "7290e069",
   "metadata": {},
   "source": [
    "Results can be summarized as follows:\n",
    "    \n",
    "There are 22 rules which are reversible for at least some values of $N > 3$:    \n",
    "    \n",
    "* Rules 51 and 204 - reversible always.\n",
    "* Rules 15, 85, 170, 240 - reversible for all $N$ at periodic border conditions.\n",
    "* Rules 45,75,89,101,154,166,180,210 - reversible for odd $N$ at periodic border consitions.\n",
    "* Rules 105 and 150 - reversible at periodic border conditions if $N \\not \\equiv 0 (mod 3)$ and at fixed border conditions if $N \\not \\equiv 2 (mod 3)$.\n",
    "* Rules 60, 102, 153, 195 - reversible for all $N$ at fixed border consitions.\n",
    "* Rules 90, 165 - reversible for even $N$ at fixed border conditions.\n",
    "    "
   ]
  },
  {
   "cell_type": "markdown",
   "id": "153eeb48",
   "metadata": {},
   "source": [
    "## 3. Algebraic formulas for rules\n",
    "\n",
    "To help us construct circuits for rules, let's for each rule write down it's formula, i.e. how value of $i$-th cell is computed as function of values of $(i-1)$-th, $i$-th and $(i+1)$-th cells (denoted here as $a_{i-1}, a_i, a_{i+1}$. Here $\\oplus$ means addition modulo 2, dot (\"$\\cdot$\") means multiplication (can be also intepreted as AND), $\\overline{x} := x \\oplus 1$.\n",
    "\n",
    "\n",
    "* Rule 204: $a_i$ (identity);\n",
    "* Rule 51: $a_i \\oplus 1$ (flips all cells);\n",
    "* Rule 170: $a_{i+1}$ (left shift);\n",
    "* Rule 240: $a_{i-1}$ (right shift);\n",
    "* Rule 15: $a_{i-1}\\oplus 1$\n",
    "* Rule 85: $a_{i+1}\\oplus 1$\n",
    "* Rule 60: $a_{i-1}\\oplus a_i$\n",
    "* Rule 195: $a_{i-1}\\oplus a_i \\oplus 1$\n",
    "* Rule 102: $a_i \\oplus a_{i+1}$\n",
    "* Rule 153: $a_{i}\\oplus a_{i+1} \\oplus 1$\n",
    "* Rule 90: $a_{i-1}\\oplus a_{i+1}$\n",
    "* Rule 165: $a_{i-1}\\oplus a_{i+1} \\oplus 1$\n",
    "* Rule 150: $a_{i-1}\\oplus a_{i} \\oplus a_{i+1}$\n",
    "* Rule 105: $a_{i-1}\\oplus a_{i} \\oplus a_{i+1} \\oplus 1$\n",
    "\n",
    "* Rule 210: $a_{i-1} \\oplus (\\overline{a_i} \\cdot a_{i+1})$\n",
    "* Rule 45: Rule 210 $\\oplus 1$\n",
    "* Rule 154: $a_{i+1} \\oplus (\\overline{a_i} \\cdot a_{i-1})$\n",
    "* Rule 101: Rule 154 $\\oplus 1$\n",
    "* Rule 180: $a_{i-1} \\oplus (\\overline{a_{i+1}} \\cdot a_{i})$\n",
    "* Rule 75: Rule 180 $\\oplus 1$\n",
    "* Rule 166: $a_{i+1} \\oplus (\\overline{a_{i-1}} \\cdot a_{i})$\n",
    "* Rule 89: Rule 166 $\\oplus 1$\n",
    "\n",
    "\n",
    "\n"
   ]
  },
  {
   "cell_type": "markdown",
   "id": "8011919e",
   "metadata": {},
   "source": [
    "## 4. Circuits for rules\n",
    "\n",
    "All moved to quantum_eca.py."
   ]
  },
  {
   "cell_type": "markdown",
   "id": "feafc0cb",
   "metadata": {},
   "source": [
    "## 5. Simulation (example for rule 190)\n",
    "\n",
    "As an example, let's consider Rule 90 and simulate it on a quantum simulator! Let's take N=20. Recall, border condition for this rule must be fixed in order for CA step to be reversible.\n",
    "\n",
    "First, let's get that nice Sierpinski pattern. For that, we flip one bit in the middle and act with a circuit, then measure, then act, then measure, etc."
   ]
  },
  {
   "cell_type": "code",
   "execution_count": 4,
   "id": "64ff0941",
   "metadata": {},
   "outputs": [
    {
     "data": {
      "text/plain": [
       "<matplotlib.image.AxesImage at 0x7f1b76dff4c0>"
      ]
     },
     "execution_count": 4,
     "metadata": {},
     "output_type": "execute_result"
    },
    {
     "data": {
      "image/png": "[encoded data removed]",
      "text/plain": [
       "<Figure size 432x288 with 1 Axes>"
      ]
     },
     "metadata": {
      "needs_background": "light"
     },
     "output_type": "display_data"
    }
   ],
   "source": [
    "import cirq\n",
    "from matplotlib import pyplot as plt\n",
    "\n",
    "from quantum_eca import circuit_for_eca, ECA, BorderCondition\n",
    "\n",
    "N = 20\n",
    "max_steps = 20\n",
    "\n",
    "qubits = cirq.LineQubit.range(N)\n",
    "results = []\n",
    "ca = ECA(90, BorderCondition.FIXED)\n",
    "\n",
    "for steps in range(max_steps):\n",
    "    circuit = cirq.Circuit()\n",
    "    circuit += cirq.X(qubits[N//2])\n",
    "    for i in range(steps):\n",
    "        circuit += circuit_for_eca(ca, qubits)\n",
    "    circuit += [cirq.measure(q) for q in qubits]\n",
    "    sim = cirq.CliffordSimulator()    \n",
    "    result = sim.simulate(circuit).measurements\n",
    "    results.append([result[str(i)][0] for i in range(N)])\n",
    "    \n",
    "plt.imshow(results)"
   ]
  },
  {
   "cell_type": "markdown",
   "id": "1ba60226",
   "metadata": {},
   "source": [
    "Now, can we evolve superposition? Yes we can!!!\n",
    "\n",
    "Let's create superposition of two states - with 10th bit set to \"1\" and with 11th bit set to \"1\". Then let's sumulate each of them for 8 steps."
   ]
  },
  {
   "cell_type": "code",
   "execution_count": 6,
   "id": "70dec29f",
   "metadata": {},
   "outputs": [
    {
     "name": "stdout",
     "output_type": "stream",
     "text": [
      "0.71|0100000101⟩ + 0.71|1010000010⟩\n"
     ]
    }
   ],
   "source": [
    "qubits = cirq.LineQubit.range(10)\n",
    "circuit = cirq.Circuit()\n",
    "circuit += cirq.H(qubits[4])\n",
    "circuit += cirq.CNOT(qubits[4], qubits[5])\n",
    "circuit += cirq.X(qubits[5])\n",
    "\n",
    "for i in range(5):\n",
    "    circuit += circuit_for_eca(ca, qubits)\n",
    "#circuit += [cirq.measure(q) for q in qubits]\n",
    "#print(circuit)\n",
    "sim = cirq.CliffordSimulator()    \n",
    "result = sim.simulate(circuit).final_state\n",
    "print(result)"
   ]
  },
  {
   "cell_type": "markdown",
   "id": "d3e83e10",
   "metadata": {},
   "source": [
    "# 6. Some pictures\n",
    "\n",
    "TODO: clean this up. This section is only illustration, it's not helpful for deriving circuits."
   ]
  },
  {
   "cell_type": "markdown",
   "id": "45784f41",
   "metadata": {},
   "source": [
    "## Rules 51 and 204\n",
    "\n",
    "These are the most obvious rules. Rule 204 is identity rule which does nothing. Corresponding circuit is empty circuit (or circuit with identity gate at every qubit). Rule 54 flips state of every cell. Corresponding circuit is circuit with X gate on every qubit."
   ]
  },
  {
   "cell_type": "code",
   "execution_count": null,
   "id": "82d2c2d8",
   "metadata": {},
   "outputs": [],
   "source": [
    "from matplotlib import pyplot as plt\n",
    "\n",
    "def visualize_rules(rules):\n",
    "    fig, axs = plt.subplots(1, len(rules), figsize=(15, 20))\n",
    "    if len(rules)==1: axs = [axs]\n",
    "    for i in range(len(rules)):\n",
    "        ca = ECA(rules[i], BorderCondition.PERIODIC)\n",
    "        pic = ca.simulate_single_cell(size=30)\n",
    "        axs[i].imshow(pic)\n",
    "        axs[i].set_title('Rule %d' % rules[i])\n",
    "    plt.show()\n"
   ]
  },
  {
   "cell_type": "code",
   "execution_count": null,
   "id": "27523c6d",
   "metadata": {},
   "outputs": [],
   "source": [
    "visualize_rules([51, 204])"
   ]
  },
  {
   "cell_type": "markdown",
   "id": "47b62b8f",
   "metadata": {},
   "source": [
    "## Rules 170 and 240\n",
    "\n",
    "Rule 170 is left shift and rule 240 is right shift. These can be implemented by $N$ SWAP gates."
   ]
  },
  {
   "cell_type": "code",
   "execution_count": null,
   "id": "4cb67124",
   "metadata": {},
   "outputs": [],
   "source": [
    "visualize_rules([170, 240])"
   ]
  },
  {
   "cell_type": "markdown",
   "id": "76c47beb",
   "metadata": {},
   "source": [
    "## Rules 15 and 85\n",
    "\n",
    "TODO: quantum circuit"
   ]
  },
  {
   "cell_type": "code",
   "execution_count": null,
   "id": "79ab9d67",
   "metadata": {},
   "outputs": [],
   "source": [
    "visualize_rules([15, 85])"
   ]
  },
  {
   "cell_type": "markdown",
   "id": "fb2bb906",
   "metadata": {},
   "source": [
    "## Rules 60, 102, 153, 195."
   ]
  },
  {
   "cell_type": "code",
   "execution_count": null,
   "id": "fa2386a6",
   "metadata": {},
   "outputs": [],
   "source": [
    "visualize_rules([60, 102, 153, 195])"
   ]
  },
  {
   "cell_type": "markdown",
   "id": "64a3dd1f",
   "metadata": {},
   "source": [
    "## Rules 45,75,89 and 101\n",
    "\n",
    "These rules are reversible for odd $N$ at periodic border conditions.\n",
    "\n",
    "TODO: quantum circuit."
   ]
  },
  {
   "cell_type": "code",
   "execution_count": null,
   "id": "9bd174a3",
   "metadata": {},
   "outputs": [],
   "source": [
    "visualize_rules([45,75,89,101])"
   ]
  },
  {
   "cell_type": "markdown",
   "id": "88c06fed",
   "metadata": {},
   "source": [
    "## Rules 166 and 180\n",
    "\n",
    "These rules are reversible for odd $N$ at periodic border conditions.\n",
    "\n",
    "TODO: quantum circuit."
   ]
  },
  {
   "cell_type": "code",
   "execution_count": null,
   "id": "62e7080a",
   "metadata": {},
   "outputs": [],
   "source": [
    "visualize_rules([166,180])"
   ]
  },
  {
   "cell_type": "markdown",
   "id": "d12ced5e",
   "metadata": {},
   "source": [
    "## Rules 154 and 210"
   ]
  },
  {
   "cell_type": "code",
   "execution_count": null,
   "id": "c682060a",
   "metadata": {},
   "outputs": [],
   "source": [
    "visualize_rules([154,210])"
   ]
  },
  {
   "cell_type": "markdown",
   "id": "a9fd9be8",
   "metadata": {},
   "source": [
    "## Rules 90 and 165\n",
    "\n",
    "Thsse rules are reversible for even $N$ on fixed border conditions.\n",
    "\n",
    "These rules produce Sierpiński triangles.\n",
    "\n",
    "[Wolfram article about Rule 90](https://mathworld.wolfram.com/Rule90.html)\n",
    "\n",
    "TODO: quantum circuit."
   ]
  },
  {
   "cell_type": "code",
   "execution_count": null,
   "id": "5980c2ad",
   "metadata": {},
   "outputs": [],
   "source": [
    "visualize_rules([90, 165])"
   ]
  },
  {
   "cell_type": "markdown",
   "id": "3d70821d",
   "metadata": {},
   "source": [
    "## Rules 105 and 150\n",
    "\n",
    "TODO: quantum circuit."
   ]
  },
  {
   "cell_type": "code",
   "execution_count": null,
   "id": "9e25d134",
   "metadata": {},
   "outputs": [],
   "source": [
    "visualize_rules([105, 150])"
   ]
  },
  {
   "cell_type": "markdown",
   "id": "efe4b3a9",
   "metadata": {},
   "source": [
    "## Additional results\n",
    "\n",
    "**Inverses** Of these rules 51 and 204 are inverses of themselves and 170 and 204 are inverses of each other. For all other rules there exists inverse unitary transformation, but it does nto correpsond to any ECA rule.\n",
    " \n",
    "## Notes\n",
    "Circuits may not be the shortest.\n",
    "\n",
    "## Further research\n",
    "1. Fractional time. For every rule $U$ find corresponding Hamiltonian $H$ such that $U = \\exp(\\frac{i H}{\\hbar})$. Then for integer number of iterations $t$, $U^t = \\exp(\\frac{i H t}{\\hbar})$ represents unitary evolving cellulalr automaton $t$ steps forward. But now we can also consider fractional values of $t$ and see state sof ECA \"between steps\".\n",
    "\n",
    "2. Evolving superpositions. See what happens if we evolve not from basis state.\n",
    "\n",
    "3. Check if we allow measurements whether we will be able to simulate non-reversible rules by combination of unitary and measurement in computational basis?\n",
    "\n",
    "4. Rigorous proofs for all those N conditions."
   ]
  }
 ],
 "metadata": {
  "kernelspec": {
   "display_name": "Python 3",
   "language": "python",
   "name": "python3"
  },
  "language_info": {
   "codemirror_mode": {
    "name": "ipython",
    "version": 3
   },
   "file_extension": ".py",
   "mimetype": "text/x-python",
   "name": "python",
   "nbconvert_exporter": "python",
   "pygments_lexer": "ipython3",
   "version": "3.8.10"
  }
 },
 "nbformat": 4,
 "nbformat_minor": 5
}
