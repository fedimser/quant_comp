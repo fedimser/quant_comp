{
 "cells": [
  {
   "cell_type": "markdown",
   "id": "8dd9d470",
   "metadata": {},
   "source": [
    "Cellular automata in Q#.\n",
    "\n",
    "Rule 90."
   ]
  },
  {
   "cell_type": "code",
   "execution_count": 116,
   "id": "91d0a5de",
   "metadata": {},
   "outputs": [
    {
     "data": {
      "application/x-qsharp-data": "[\"LeftShift\",\"Rule90\",\"MeasureAndPrint\",\"EvolveOneBit\",\"EvolveSuperposition\"]",
      "text/html": [
       "<ul><li>LeftShift</li><li>Rule90</li><li>MeasureAndPrint</li><li>EvolveOneBit</li><li>EvolveSuperposition</li></ul>"
      ],
      "text/plain": [
       "LeftShift, Rule90, MeasureAndPrint, EvolveOneBit, EvolveSuperposition"
      ]
     },
     "execution_count": 116,
     "metadata": {},
     "output_type": "execute_result"
    }
   ],
   "source": [
    "open Microsoft.Quantum.Diagnostics;\n",
    "\n",
    "operation LeftShift(qs: Qubit[]) : Unit {\n",
    "    let N = Length(qs);\n",
    "    for i in 0..N-2 {\n",
    "        SWAP(qs[i], qs[i+1]);\n",
    "    }\n",
    "}\n",
    "\n",
    "operation Rule90(qs: Qubit[]) : Unit {\n",
    "    let N = Length(qs);\n",
    "    for i in 3..N {\n",
    "        CNOT(qs[N-i], qs[N-i+2]);\n",
    "    }\n",
    "    for i in 1..(N/2)-1 {\n",
    "        CNOT(qs[2*i], qs[0]);\n",
    "    }\n",
    "    LeftShift(qs);    \n",
    "}\n",
    "operation MeasureAndPrint(qs: Qubit[]) : Unit {\n",
    "    let N = Length(qs);\n",
    "    mutable result = new Int[N];\n",
    "    for i in 0..N-1 {\n",
    "        if(M(qs[i]) == One) {\n",
    "            set result w/= i <- 1;\n",
    "        }\n",
    "    }\n",
    "    Message($\"{result}\");\n",
    "}\n",
    "\n",
    "operation EvolveOneBit(N: Int, pos: Int, steps: Int) : Unit {\n",
    "    use qs = Qubit[N];\n",
    "    X(qs[pos]);\n",
    "    MeasureAndPrint(qs);\n",
    "    for i in 1..steps {\n",
    "        Rule90(qs);\n",
    "        MeasureAndPrint(qs);\n",
    "    }\n",
    "    ResetAll(qs);\n",
    "}\n",
    "\n",
    "operation EvolveSuperposition(N: Int, pos1: Int, pos2: Int, steps: Int, attempts: Int) : Unit {\n",
    "    use qs = Qubit[10];\n",
    "        for attempt in 1..attempts {\n",
    "        H(qs[pos1]);\n",
    "        CNOT(qs[pos1], qs[pos2]);\n",
    "        X(qs[pos2]);\n",
    "        for i in 1..steps {\n",
    "            Rule90(qs);\n",
    "        }\n",
    "        MeasureAndPrint(qs);\n",
    "        ResetAll(qs);\n",
    "    }\n",
    "}"
   ]
  },
  {
   "cell_type": "code",
   "execution_count": 104,
   "id": "e645b005",
   "metadata": {},
   "outputs": [
    {
     "name": "stdout",
     "output_type": "stream",
     "text": [
      "[0,0,1,0,0,0,0,0,0,0]\n",
      "[0,1,0,1,0,0,0,0,0,0]\n",
      "[1,0,0,0,1,0,0,0,0,0]\n",
      "[0,1,0,1,0,1,0,0,0,0]\n",
      "[1,0,0,0,0,0,1,0,0,0]\n",
      "[0,1,0,0,0,1,0,1,0,0]\n",
      "[1,0,1,0,1,0,0,0,1,0]\n",
      "[0,0,0,0,0,1,0,1,0,1]\n",
      "[0,0,0,0,1,0,0,0,0,0]\n",
      "[0,0,0,1,0,1,0,0,0,0]\n",
      "[0,0,1,0,0,0,1,0,0,0]\n"
     ]
    },
    {
     "data": {
      "application/x-qsharp-data": "{\"@type\":\"tuple\"}",
      "text/plain": [
       "()"
      ]
     },
     "execution_count": 104,
     "metadata": {},
     "output_type": "execute_result"
    }
   ],
   "source": [
    "%simulate EvolveOneBit N=10 pos=2 steps=10"
   ]
  },
  {
   "cell_type": "code",
   "execution_count": 105,
   "id": "d188e436",
   "metadata": {},
   "outputs": [
    {
     "name": "stdout",
     "output_type": "stream",
     "text": [
      "[0,0,0,0,0,0,0,0,1,0,0,0,0,0,0,0]\n",
      "[0,0,0,0,0,0,0,1,0,1,0,0,0,0,0,0]\n",
      "[0,0,0,0,0,0,1,0,0,0,1,0,0,0,0,0]\n",
      "[0,0,0,0,0,1,0,1,0,1,0,1,0,0,0,0]\n",
      "[0,0,0,0,1,0,0,0,0,0,0,0,1,0,0,0]\n",
      "[0,0,0,1,0,1,0,0,0,0,0,1,0,1,0,0]\n",
      "[0,0,1,0,0,0,1,0,0,0,1,0,0,0,1,0]\n",
      "[0,1,0,1,0,1,0,1,0,1,0,1,0,1,0,1]\n",
      "[1,0,0,0,0,0,0,0,0,0,0,0,0,0,0,0]\n",
      "[0,1,0,0,0,0,0,0,0,0,0,0,0,0,0,0]\n",
      "[1,0,1,0,0,0,0,0,0,0,0,0,0,0,0,0]\n"
     ]
    },
    {
     "data": {
      "application/x-qsharp-data": "{\"@type\":\"tuple\"}",
      "text/plain": [
       "()"
      ]
     },
     "execution_count": 105,
     "metadata": {},
     "output_type": "execute_result"
    }
   ],
   "source": [
    "%simulate EvolveOneBit N=16 pos=8 steps=10"
   ]
  },
  {
   "cell_type": "code",
   "execution_count": 114,
   "id": "5469b23b",
   "metadata": {},
   "outputs": [
    {
     "name": "stdout",
     "output_type": "stream",
     "text": [
      "[1,0,1,0,0,0,0,0,1,0]\n",
      "[1,0,1,0,0,0,0,0,1,0]\n",
      "[0,1,0,0,0,0,0,1,0,1]\n",
      "[1,0,1,0,0,0,0,0,1,0]\n",
      "[1,0,1,0,0,0,0,0,1,0]\n",
      "[0,1,0,0,0,0,0,1,0,1]\n",
      "[1,0,1,0,0,0,0,0,1,0]\n",
      "[0,1,0,0,0,0,0,1,0,1]\n",
      "[0,1,0,0,0,0,0,1,0,1]\n",
      "[0,1,0,0,0,0,0,1,0,1]\n"
     ]
    },
    {
     "data": {
      "application/x-qsharp-data": "{\"@type\":\"tuple\"}",
      "text/plain": [
       "()"
      ]
     },
     "execution_count": 114,
     "metadata": {},
     "output_type": "execute_result"
    }
   ],
   "source": [
    "%simulate EvolveSuperposition N=10 pos1=4 pos2=5 steps=5 attempts=10"
   ]
  }
 ],
 "metadata": {
  "kernelspec": {
   "display_name": "Q#",
   "language": "qsharp",
   "name": "iqsharp"
  },
  "language_info": {
   "file_extension": ".qs",
   "mimetype": "text/x-qsharp",
   "name": "qsharp",
   "version": "0.14"
  }
 },
 "nbformat": 4,
 "nbformat_minor": 5
}
