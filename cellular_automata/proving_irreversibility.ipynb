{
 "cells": [
  {
   "cell_type": "markdown",
   "id": "268a3f9d",
   "metadata": {},
   "source": [
    "## Proving irreversibility of Elementary Cellular Automata\n",
    "\n",
    "In this notebook we find examples of 2 states which after 1 iteration are mapped to the same state for several Elementary Cellular Automata. One such example is sufficient to prove that ECA is irreversible."
   ]
  },
  {
   "cell_type": "code",
   "execution_count": 1,
   "id": "a4f75a67",
   "metadata": {},
   "outputs": [],
   "source": [
    "from quantum_eca import BorderCondition, ECA\n",
    "from collections import defaultdict\n",
    "import numpy as np\n",
    "\n",
    "def decode_state(state, n):\n",
    "    state = np.int64(state)\n",
    "    return [(state>>i)%2 for i in range(n)]\n",
    "\n",
    "def prove_irreversibility(eca, n):\n",
    "    p = eca.get_explicit_state_transitions(n)\n",
    "    if len(set(p))==len(p):\n",
    "        print('This ECA is reversible')\n",
    "        return\n",
    "    trans = defaultdict(list)\n",
    "    for i in range(2**n):\n",
    "        trans[p[i]].append(i)\n",
    "    for state_from, states_to in trans.items():\n",
    "        if len(states_to) > 1:\n",
    "            for state_to in states_to:\n",
    "                print('%s -> %s' % (decode_state(state_to, n), decode_state(state_from, n)))\n",
    "            return"
   ]
  },
  {
   "cell_type": "code",
   "execution_count": 2,
   "id": "f0e664d2",
   "metadata": {},
   "outputs": [
    {
     "name": "stdout",
     "output_type": "stream",
     "text": [
      "[0, 0, 0, 0, 0] -> [0, 0, 0, 0, 0]\n",
      "[1, 0, 1, 0, 1] -> [0, 0, 0, 0, 0]\n"
     ]
    }
   ],
   "source": [
    "prove_irreversibility(ECA(90, BorderCondition.FIXED), 5)"
   ]
  },
  {
   "cell_type": "code",
   "execution_count": 3,
   "id": "fcdca936",
   "metadata": {},
   "outputs": [
    {
     "name": "stdout",
     "output_type": "stream",
     "text": [
      "[0, 0, 0, 0, 0, 0] -> [0, 0, 0, 0, 0, 0]\n",
      "[1, 1, 0, 1, 1, 0] -> [0, 0, 0, 0, 0, 0]\n",
      "[1, 0, 1, 1, 0, 1] -> [0, 0, 0, 0, 0, 0]\n",
      "[0, 1, 1, 0, 1, 1] -> [0, 0, 0, 0, 0, 0]\n"
     ]
    }
   ],
   "source": [
    "prove_irreversibility(ECA(150, BorderCondition.PERIODIC), 6)"
   ]
  },
  {
   "cell_type": "code",
   "execution_count": 4,
   "id": "d39e7c91",
   "metadata": {},
   "outputs": [
    {
     "name": "stdout",
     "output_type": "stream",
     "text": [
      "[0, 0, 0, 0, 0, 0, 0, 0] -> [0, 0, 0, 0, 0, 0, 0, 0]\n",
      "[1, 1, 0, 1, 1, 0, 1, 1] -> [0, 0, 0, 0, 0, 0, 0, 0]\n"
     ]
    }
   ],
   "source": [
    "prove_irreversibility(ECA(150, BorderCondition.FIXED), 8)"
   ]
  },
  {
   "cell_type": "code",
   "execution_count": 5,
   "id": "d8ceb348",
   "metadata": {},
   "outputs": [
    {
     "name": "stdout",
     "output_type": "stream",
     "text": [
      "[1, 0, 1, 0, 1, 0] -> [1, 1, 1, 1, 1, 1]\n",
      "[0, 1, 0, 1, 0, 1] -> [1, 1, 1, 1, 1, 1]\n",
      "[1, 1, 1, 1, 1, 1] -> [1, 1, 1, 1, 1, 1]\n"
     ]
    }
   ],
   "source": [
    "prove_irreversibility(ECA(166, BorderCondition.PERIODIC), 6)"
   ]
  }
 ],
 "metadata": {
  "kernelspec": {
   "display_name": "Python 3",
   "language": "python",
   "name": "python3"
  },
  "language_info": {
   "codemirror_mode": {
    "name": "ipython",
    "version": 3
   },
   "file_extension": ".py",
   "mimetype": "text/x-python",
   "name": "python",
   "nbconvert_exporter": "python",
   "pygments_lexer": "ipython3",
   "version": "3.8.10"
  }
 },
 "nbformat": 4,
 "nbformat_minor": 5
}
