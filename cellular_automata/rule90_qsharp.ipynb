{
 "cells": [
  {
   "cell_type": "markdown",
   "id": "8dd9d470",
   "metadata": {},
   "source": [
    "# Implementing elementary cellular automaton (Rule 90) in Q♯\n",
    "\n",
    "*Dmytro Fedoriaka, December 2021*\n",
    "\n",
    "This notebook supplements my blog post \"Implementing cellular automaton in Q#\". It contains Q# code implementing \"[Rule 90](https://en.wikipedia.org/wiki/Rule_90)\" cellular automaton in Q#, and some simulation experiments with it.\n",
    "\n",
    "It's part of my project on quantum circuits for ECAs, more details [here](https://github.com/fedimser/quant_comp/tree/master/cellular_automata).\n",
    "\n",
    "\n",
    "You can download and execute this Jupyter Notebook. For that, in addition to Python and Jupyter, you need to install Q# kernel following [these instructions](https://docs.microsoft.com/en-us/azure/quantum/install-command-line-qdk#jupyter-notebooks-using-the-net-cli). "
   ]
  },
  {
   "cell_type": "markdown",
   "id": "05d8a4ba",
   "metadata": {},
   "source": [
    "## 1. The Q# code\n",
    "\n",
    "In the code below:\n",
    "\n",
    "* Operation \"Rule90\" applies Rule 90 to given register of qubits.\n",
    "* Operation \"MeasureAndPrint\" measures register (in computational basis) and prints result.\n",
    "* Operation \"EvolveOneBit\" build initial state where there is only one qubit in state $| 1 \\rangle$, and all others in state $| 0 \\rangle$, evolves it for given number of steps, measures and print the result.\n",
    "* Operation \"EvolveSuperposition\" build superposition of two initial states with exactly one qubit in state $| 1 \\rangle$ (both with weights $\\frac{1}{\\sqrt{2}}$, evolves it for given number of states, measures and prints the result. \n"
   ]
  },
  {
   "cell_type": "code",
   "execution_count": 1,
   "id": "91d0a5de",
   "metadata": {},
   "outputs": [
    {
     "data": {
      "application/x-qsharp-data": "[\"LeftShift\",\"Rule90\",\"MeasureAndPrint\",\"EvolveOneBit\",\"EvolveSuperposition\"]",
      "text/html": [
       "<ul><li>LeftShift</li><li>Rule90</li><li>MeasureAndPrint</li><li>EvolveOneBit</li><li>EvolveSuperposition</li></ul>"
      ],
      "text/plain": [
       "LeftShift, Rule90, MeasureAndPrint, EvolveOneBit, EvolveSuperposition"
      ]
     },
     "execution_count": 1,
     "metadata": {},
     "output_type": "execute_result"
    }
   ],
   "source": [
    "open Microsoft.Quantum.Diagnostics;\n",
    "\n",
    "operation LeftShift(qs: Qubit[]) : Unit {\n",
    "    let N = Length(qs);\n",
    "    for i in 0..N-2 {\n",
    "        SWAP(qs[i], qs[i+1]);\n",
    "    }\n",
    "}\n",
    "\n",
    "operation Rule90(qs: Qubit[]) : Unit {\n",
    "    let N = Length(qs);\n",
    "    for i in 3..N {\n",
    "        CNOT(qs[N-i], qs[N-i+2]);\n",
    "    }\n",
    "    for i in 1..(N/2)-1 {\n",
    "        CNOT(qs[2*i], qs[0]);\n",
    "    }\n",
    "    LeftShift(qs);    \n",
    "}\n",
    "\n",
    "operation MeasureAndPrint(qs: Qubit[]) : Unit {\n",
    "    let N = Length(qs);\n",
    "    mutable result = new Int[N];\n",
    "    for i in 0..N-1 {\n",
    "        if(M(qs[i]) == One) {\n",
    "            set result w/= i <- 1;\n",
    "        }\n",
    "    }\n",
    "    Message($\"{result}\");\n",
    "}\n",
    "\n",
    "operation EvolveOneBit(N: Int, pos: Int, steps: Int) : Unit {\n",
    "    use qs = Qubit[N];\n",
    "    X(qs[pos]);\n",
    "    MeasureAndPrint(qs);\n",
    "    for i in 1..steps {\n",
    "        Rule90(qs);\n",
    "        MeasureAndPrint(qs);\n",
    "    }\n",
    "    ResetAll(qs);\n",
    "}\n",
    "\n",
    "operation EvolveSuperposition(N: Int, pos1: Int, pos2: Int, steps: Int, attempts: Int) : Unit {\n",
    "    use qs = Qubit[10];\n",
    "        for attempt in 1..attempts {\n",
    "        H(qs[pos1]);\n",
    "        CNOT(qs[pos1], qs[pos2]);\n",
    "        X(qs[pos2]);\n",
    "        for i in 1..steps {\n",
    "            Rule90(qs);\n",
    "        }\n",
    "        MeasureAndPrint(qs);\n",
    "        ResetAll(qs);\n",
    "    }\n",
    "}"
   ]
  },
  {
   "cell_type": "markdown",
   "id": "423cb494",
   "metadata": {},
   "source": [
    "## 2. Simulating single-state cell\n",
    "\n",
    "Let's simulate initial states with only 1 qubit set to $| 1 \\rangle$:"
   ]
  },
  {
   "cell_type": "code",
   "execution_count": 2,
   "id": "e645b005",
   "metadata": {},
   "outputs": [
    {
     "name": "stdout",
     "output_type": "stream",
     "text": [
      "[0,0,1,0,0,0,0,0,0,0]\n",
      "[0,1,0,1,0,0,0,0,0,0]\n",
      "[1,0,0,0,1,0,0,0,0,0]\n",
      "[0,1,0,1,0,1,0,0,0,0]\n",
      "[1,0,0,0,0,0,1,0,0,0]\n",
      "[0,1,0,0,0,1,0,1,0,0]\n",
      "[1,0,1,0,1,0,0,0,1,0]\n",
      "[0,0,0,0,0,1,0,1,0,1]\n",
      "[0,0,0,0,1,0,0,0,0,0]\n",
      "[0,0,0,1,0,1,0,0,0,0]\n",
      "[0,0,1,0,0,0,1,0,0,0]\n"
     ]
    },
    {
     "data": {
      "application/x-qsharp-data": "{\"@type\":\"tuple\"}",
      "text/plain": [
       "()"
      ]
     },
     "execution_count": 2,
     "metadata": {},
     "output_type": "execute_result"
    }
   ],
   "source": [
    "%simulate EvolveOneBit N=10 pos=2 steps=10"
   ]
  },
  {
   "cell_type": "code",
   "execution_count": 3,
   "id": "d188e436",
   "metadata": {},
   "outputs": [
    {
     "name": "stdout",
     "output_type": "stream",
     "text": [
      "[0,0,0,0,0,0,0,0,1,0,0,0,0,0,0,0]\n",
      "[0,0,0,0,0,0,0,1,0,1,0,0,0,0,0,0]\n",
      "[0,0,0,0,0,0,1,0,0,0,1,0,0,0,0,0]\n",
      "[0,0,0,0,0,1,0,1,0,1,0,1,0,0,0,0]\n",
      "[0,0,0,0,1,0,0,0,0,0,0,0,1,0,0,0]\n",
      "[0,0,0,1,0,1,0,0,0,0,0,1,0,1,0,0]\n",
      "[0,0,1,0,0,0,1,0,0,0,1,0,0,0,1,0]\n",
      "[0,1,0,1,0,1,0,1,0,1,0,1,0,1,0,1]\n",
      "[1,0,0,0,0,0,0,0,0,0,0,0,0,0,0,0]\n",
      "[0,1,0,0,0,0,0,0,0,0,0,0,0,0,0,0]\n",
      "[1,0,1,0,0,0,0,0,0,0,0,0,0,0,0,0]\n"
     ]
    },
    {
     "data": {
      "application/x-qsharp-data": "{\"@type\":\"tuple\"}",
      "text/plain": [
       "()"
      ]
     },
     "execution_count": 3,
     "metadata": {},
     "output_type": "execute_result"
    }
   ],
   "source": [
    "%simulate EvolveOneBit N=16 pos=8 steps=10"
   ]
  },
  {
   "cell_type": "markdown",
   "id": "410ecd3d",
   "metadata": {},
   "source": [
    "As expected, we are getting the \"Sierpinski triangle\" pattern."
   ]
  },
  {
   "cell_type": "markdown",
   "id": "921dba6b",
   "metadata": {},
   "source": [
    "## 3. Simulating superposition of 2 single-state cells\n",
    "\n",
    "Now, let's simulate evolution of superposition. Here, we start with initial state\n",
    "$\\frac{1}{\\sqrt{2}} |0000100000 \\rangle + \\frac{1}{\\sqrt{2}} |0000010000 \\rangle$.\n",
    "\n",
    "In theory, we expect the result to be superposition of two basis states, each of which represents evolution of superposed initial states.\n",
    "\n",
    "To confirm that, we simulate evolution of the same superposition 10 times, and each time measure the result."
   ]
  },
  {
   "cell_type": "code",
   "execution_count": 4,
   "id": "5469b23b",
   "metadata": {},
   "outputs": [
    {
     "name": "stdout",
     "output_type": "stream",
     "text": [
      "[1,0,1,0,0,0,0,0,1,0]\n",
      "[0,1,0,0,0,0,0,1,0,1]\n",
      "[1,0,1,0,0,0,0,0,1,0]\n",
      "[0,1,0,0,0,0,0,1,0,1]\n",
      "[0,1,0,0,0,0,0,1,0,1]\n",
      "[0,1,0,0,0,0,0,1,0,1]\n",
      "[0,1,0,0,0,0,0,1,0,1]\n",
      "[1,0,1,0,0,0,0,0,1,0]\n",
      "[0,1,0,0,0,0,0,1,0,1]\n",
      "[1,0,1,0,0,0,0,0,1,0]\n"
     ]
    },
    {
     "data": {
      "application/x-qsharp-data": "{\"@type\":\"tuple\"}",
      "text/plain": [
       "()"
      ]
     },
     "execution_count": 4,
     "metadata": {},
     "output_type": "execute_result"
    }
   ],
   "source": [
    "%simulate EvolveSuperposition N=10 pos1=4 pos2=5 steps=5 attempts=10"
   ]
  },
  {
   "cell_type": "markdown",
   "id": "a97dcc7d",
   "metadata": {},
   "source": [
    "As expected, we see only 2 different outcomes, and they appear with equal frequency. And we can check that those outcomes are exactly results of evolutions of states 0000100000 and 0000010000."
   ]
  }
 ],
 "metadata": {
  "kernelspec": {
   "display_name": "Q#",
   "language": "qsharp",
   "name": "iqsharp"
  },
  "language_info": {
   "file_extension": ".qs",
   "mimetype": "text/x-qsharp",
   "name": "qsharp",
   "version": "0.14"
  }
 },
 "nbformat": 4,
 "nbformat_minor": 5
}
