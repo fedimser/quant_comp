{
 "cells": [
  {
   "cell_type": "markdown",
   "id": "8dd9d470",
   "metadata": {},
   "source": [
    "# Implementing elementary cellular automaton in Q#\n",
    "\n",
    "**Dmytro Fedoriaka, December 12, 2021.**\n",
    "\n",
    "*This notebook is part of the [Q# Advent Calendar 2021](https://devblogs.microsoft.com/qsharp/q-advent-calendar-2021/). Check it out for more great posts about quantum computing and Q#!*"
   ]
  },
  {
   "cell_type": "markdown",
   "id": "5985bd2c",
   "metadata": {},
   "source": [
    "Hello!\n",
    "\n",
    "Today we are going to implement an [Elementary Cellular Automaton](https://en.wikipedia.org/wiki/Elementary_cellular_automaton) on a quantum computer using [Q# programming language](https://en.wikipedia.org/wiki/Q_Sharp)."
   ]
  },
  {
   "cell_type": "markdown",
   "id": "7cc2916f",
   "metadata": {},
   "source": [
    "## 1. What is Cellular Automaton?\n",
    "\n",
    "[Cellular Automata](https://en.wikipedia.org/wiki/Cellular_automaton) (CA) are models of computations introduced by John von Neumann 1960s. They are made of \"cells\" which can be in one of two states, and rules how these cells change based on state of their neigbors. Interesting thing about them is that even for very simple rules they can show surprisngly complex behaviour. One famous example of CA is John Conway's [Game of Life](https://en.wikipedia.org/wiki/Conway%27s_Game_of_Life).\n",
    "\n",
    "Recently I asked myself a question: can we simulate cellular automata on a quantum computer? I read some papers and turns out there is a lot of research on [Quantum Cellular Automata](https://en.wikipedia.org/wiki/Quantum_cellular_automaton) - quantum systems which in some ways resemble usual CA. But that was not quite what I wanted. I wanted to replace cells with qubits and rules with unitary evolution. Turned out this is generally not posible, because quantum computation must be reversible. \n",
    "\n",
    "So, I considered the simplest class of CA - Elementary Cellular Automata (ECA). They are 1-dimensional (all celss are in a row, or an array). Rule defines state of next cell based on state of ti and two its neigbors on previous step. They were introduced by Stephen Wolfram in 1980s. There are 256 different rules for Elementary Cellular Automata, and some of them can be simulated on quantum computer.\n",
    "\n",
    "In this notebook I am going to focus on one particular ECA - so-called \"Rule 90\"."
   ]
  },
  {
   "cell_type": "markdown",
   "id": "43a3c8e4",
   "metadata": {},
   "source": [
    "## 2. Rule 90\n",
    "\n",
    "Rule 90 is one particular ECA. It has its own page on [Wikipedia](https://en.wikipedia.org/wiki/Rule_90) and [Wolfram Mathwrold](https://mathworld.wolfram.com/Rule90.html).\n",
    "\n",
    "The picture below (from MathWorld) descibes this rule:\n",
    "\n",
    "![image](https://mathworld.wolfram.com/images/eps-gif/ElementaryCARule090_1000.gif)\n",
    "\n",
    "Eight pictures on the top describe what is state of cell on next step based on previous step. Here white cell means \"0\" and black cell means \"1\". If you look carefully at them you will realize that this rule replaces the cell with XOR of its left and right neigbour - we will use this observation below to build quantum circuit for this ECA. Also note that if you read digits in top row as binary number, you will get 90 - that's why it's called \"Rule 90\".\n",
    "\n",
    "Picture on the bottom show evolution of single black cell. Every row is a step or \"generation\", and time flows from top tp bottom. \n",
    "\n",
    "Before we move on, we have to make two assumtions (so we can implement this rule with quantum circuit):\n",
    "\n",
    "* Number of cells in a row, $N$, is an even number.\n",
    "* Border condition: we assume that there is cell with \"0\" in it to the left of leftmost cell and to the right of rightmost cell."
   ]
  },
  {
   "cell_type": "markdown",
   "id": "6be6497a",
   "metadata": {},
   "source": [
    "## 3. Quantum circuit for Rule 90\n",
    "\n",
    "So, we want to implement a quantum circuit which would act on basis states as Rule 90 acts on clasical bit strings. For now we don't care about superpositions, so we can think about qubits as of classical bits.\n",
    "\n",
    "The hardest part of our task is that we need to do everything in-place: input and output are the same qubits, we don't have extra (\"ancilla\") qubits.\n",
    "\n",
    "First useful gate for us is the [CNOT](https://en.wikipedia.org/wiki/Controlled_NOT_gate) gate. \n",
    "CNOT($q_1$, $q_2$) acts like X(q2) if $q_1$ is in state $|1 \\rangle$, and does nothing if $q_1$ is in state $|0 \\rangle$. So, it replaces $q_2$ with $q_1 \\oplus q_2$.\n",
    "\n",
    "Rule 90 XORs every cell with another cell at distance 2. Let's try to do the same: let's apply \n",
    "CNOT($q_{N-3}, q_{N-1}$), CNOT($q_{N-4}, q_{N-2}$), ...,  CNOT($q_{0}, q_{2}$).\n",
    "\n",
    "This will get us the following result (classically):\n",
    "\n",
    "$q_{N-1} \\leftarrow q_{N-1} \\oplus q_{N-3}$\n",
    "\n",
    "$q_{N-2} \\leftarrow q_{N-2} \\oplus q_{N-4}$\n",
    "\n",
    "...\n",
    "\n",
    "$q_{2} \\leftarrow q_{2} \\oplus q_{0}$\n",
    "\n",
    "This is almost what we want, except everything is shifted 1 \"cell\" to the right, and we did nothoing to $q_1$ and $q_0$.\n",
    "\n",
    "\n",
    "\n",
    "\n",
    "\n",
    "![image](pic/rule90-circuit.png)"
   ]
  },
  {
   "cell_type": "markdown",
   "id": "05d8a4ba",
   "metadata": {},
   "source": [
    "## 4. The Q# code\n",
    "\n",
    "In the code below:\n",
    "\n",
    "* Operation \"Rule90\" applies Rule 90 to given register of qubits.\n",
    "* Operation \"MeasureAndPrint\" measures register (in computational basis) and prints result.\n",
    "* Operation \"EvolveOneBit\" build initial state where there is only one qubit in state $| 1 \\rangle$, and all others in state $| 0 \\rangle$, evolves it for given number of steps, measures and print the result.\n",
    "* Operation \"EvolveSuperposition\" build superposition of two initial states with exactly one qubit in state $| 1 \\rangle$ (both with weights $\\frac{1}{\\sqrt{2}}$, evolves it for given number of states, measures and prints the result. \n"
   ]
  },
  {
   "cell_type": "code",
   "execution_count": 1,
   "id": "91d0a5de",
   "metadata": {},
   "outputs": [
    {
     "data": {
      "application/x-qsharp-data": "[\"LeftShift\",\"Rule90\",\"MeasureAndPrint\",\"EvolveOneBit\",\"EvolveSuperposition\"]",
      "text/html": [
       "<ul><li>LeftShift</li><li>Rule90</li><li>MeasureAndPrint</li><li>EvolveOneBit</li><li>EvolveSuperposition</li></ul>"
      ],
      "text/plain": [
       "LeftShift, Rule90, MeasureAndPrint, EvolveOneBit, EvolveSuperposition"
      ]
     },
     "execution_count": 1,
     "metadata": {},
     "output_type": "execute_result"
    }
   ],
   "source": [
    "open Microsoft.Quantum.Diagnostics;\n",
    "\n",
    "operation LeftShift(qs: Qubit[]) : Unit {\n",
    "    let N = Length(qs);\n",
    "    for i in 0..N-2 {\n",
    "        SWAP(qs[i], qs[i+1]);\n",
    "    }\n",
    "}\n",
    "\n",
    "operation Rule90(qs: Qubit[]) : Unit {\n",
    "    let N = Length(qs);\n",
    "    for i in 3..N {\n",
    "        CNOT(qs[N-i], qs[N-i+2]);\n",
    "    }\n",
    "    for i in 1..(N/2)-1 {\n",
    "        CNOT(qs[2*i], qs[0]);\n",
    "    }\n",
    "    LeftShift(qs);    \n",
    "}\n",
    "operation MeasureAndPrint(qs: Qubit[]) : Unit {\n",
    "    let N = Length(qs);\n",
    "    mutable result = new Int[N];\n",
    "    for i in 0..N-1 {\n",
    "        if(M(qs[i]) == One) {\n",
    "            set result w/= i <- 1;\n",
    "        }\n",
    "    }\n",
    "    Message($\"{result}\");\n",
    "}\n",
    "\n",
    "operation EvolveOneBit(N: Int, pos: Int, steps: Int) : Unit {\n",
    "    use qs = Qubit[N];\n",
    "    X(qs[pos]);\n",
    "    MeasureAndPrint(qs);\n",
    "    for i in 1..steps {\n",
    "        Rule90(qs);\n",
    "        MeasureAndPrint(qs);\n",
    "    }\n",
    "    ResetAll(qs);\n",
    "}\n",
    "\n",
    "operation EvolveSuperposition(N: Int, pos1: Int, pos2: Int, steps: Int, attempts: Int) : Unit {\n",
    "    use qs = Qubit[10];\n",
    "        for attempt in 1..attempts {\n",
    "        H(qs[pos1]);\n",
    "        CNOT(qs[pos1], qs[pos2]);\n",
    "        X(qs[pos2]);\n",
    "        for i in 1..steps {\n",
    "            Rule90(qs);\n",
    "        }\n",
    "        MeasureAndPrint(qs);\n",
    "        ResetAll(qs);\n",
    "    }\n",
    "}"
   ]
  },
  {
   "cell_type": "markdown",
   "id": "423cb494",
   "metadata": {},
   "source": [
    "Let's simulate initial states with only 1 qubit set to $| 1 \\rangle$:"
   ]
  },
  {
   "cell_type": "code",
   "execution_count": 2,
   "id": "e645b005",
   "metadata": {},
   "outputs": [
    {
     "name": "stdout",
     "output_type": "stream",
     "text": [
      "[0,0,1,0,0,0,0,0,0,0]\n",
      "[0,1,0,1,0,0,0,0,0,0]\n",
      "[1,0,0,0,1,0,0,0,0,0]\n",
      "[0,1,0,1,0,1,0,0,0,0]\n",
      "[1,0,0,0,0,0,1,0,0,0]\n",
      "[0,1,0,0,0,1,0,1,0,0]\n",
      "[1,0,1,0,1,0,0,0,1,0]\n",
      "[0,0,0,0,0,1,0,1,0,1]\n",
      "[0,0,0,0,1,0,0,0,0,0]\n",
      "[0,0,0,1,0,1,0,0,0,0]\n",
      "[0,0,1,0,0,0,1,0,0,0]\n"
     ]
    },
    {
     "data": {
      "application/x-qsharp-data": "{\"@type\":\"tuple\"}",
      "text/plain": [
       "()"
      ]
     },
     "execution_count": 2,
     "metadata": {},
     "output_type": "execute_result"
    }
   ],
   "source": [
    "%simulate EvolveOneBit N=10 pos=2 steps=10"
   ]
  },
  {
   "cell_type": "code",
   "execution_count": 3,
   "id": "d188e436",
   "metadata": {},
   "outputs": [
    {
     "name": "stdout",
     "output_type": "stream",
     "text": [
      "[0,0,0,0,0,0,0,0,1,0,0,0,0,0,0,0]\n",
      "[0,0,0,0,0,0,0,1,0,1,0,0,0,0,0,0]\n",
      "[0,0,0,0,0,0,1,0,0,0,1,0,0,0,0,0]\n",
      "[0,0,0,0,0,1,0,1,0,1,0,1,0,0,0,0]\n",
      "[0,0,0,0,1,0,0,0,0,0,0,0,1,0,0,0]\n",
      "[0,0,0,1,0,1,0,0,0,0,0,1,0,1,0,0]\n",
      "[0,0,1,0,0,0,1,0,0,0,1,0,0,0,1,0]\n",
      "[0,1,0,1,0,1,0,1,0,1,0,1,0,1,0,1]\n",
      "[1,0,0,0,0,0,0,0,0,0,0,0,0,0,0,0]\n",
      "[0,1,0,0,0,0,0,0,0,0,0,0,0,0,0,0]\n",
      "[1,0,1,0,0,0,0,0,0,0,0,0,0,0,0,0]\n"
     ]
    },
    {
     "data": {
      "application/x-qsharp-data": "{\"@type\":\"tuple\"}",
      "text/plain": [
       "()"
      ]
     },
     "execution_count": 3,
     "metadata": {},
     "output_type": "execute_result"
    }
   ],
   "source": [
    "%simulate EvolveOneBit N=16 pos=8 steps=10"
   ]
  },
  {
   "cell_type": "markdown",
   "id": "410ecd3d",
   "metadata": {},
   "source": [
    "As expected, we are getting the \"Sierpinski triangle\" pattern."
   ]
  },
  {
   "cell_type": "markdown",
   "id": "921dba6b",
   "metadata": {},
   "source": [
    "Now, let's simulate evolution of superposition. Here, we start with initial state\n",
    "$\\frac{1}{\\sqrt{2}} |0000100000 \\rangle + \\frac{1}{\\sqrt{2}} |0000010000 \\rangle$.\n",
    "\n",
    "In theory, we expect the result to be superposition of two basis states, each of which represents evolution of superposed initial states.\n",
    "\n",
    "To confirm that, we simulate evolution of the same superposition 10 times, and each time measure the result."
   ]
  },
  {
   "cell_type": "code",
   "execution_count": 4,
   "id": "5469b23b",
   "metadata": {},
   "outputs": [
    {
     "name": "stdout",
     "output_type": "stream",
     "text": [
      "[0,1,0,0,0,0,0,1,0,1]\n",
      "[0,1,0,0,0,0,0,1,0,1]\n",
      "[1,0,1,0,0,0,0,0,1,0]\n",
      "[1,0,1,0,0,0,0,0,1,0]\n",
      "[1,0,1,0,0,0,0,0,1,0]\n",
      "[1,0,1,0,0,0,0,0,1,0]\n",
      "[0,1,0,0,0,0,0,1,0,1]\n",
      "[1,0,1,0,0,0,0,0,1,0]\n",
      "[1,0,1,0,0,0,0,0,1,0]\n",
      "[1,0,1,0,0,0,0,0,1,0]\n"
     ]
    },
    {
     "data": {
      "application/x-qsharp-data": "{\"@type\":\"tuple\"}",
      "text/plain": [
       "()"
      ]
     },
     "execution_count": 4,
     "metadata": {},
     "output_type": "execute_result"
    }
   ],
   "source": [
    "%simulate EvolveSuperposition N=10 pos1=4 pos2=5 steps=5 attempts=10"
   ]
  },
  {
   "cell_type": "markdown",
   "id": "a97dcc7d",
   "metadata": {},
   "source": [
    "As expected, we see only 2 different outcomes, and they appear with equal frequency. And we can check that those outcomes are exactly results of evolutions of states 0000100000 and 0000010000."
   ]
  },
  {
   "cell_type": "markdown",
   "id": "263083f8",
   "metadata": {},
   "source": [
    "Closing remarks:\n",
    "\n",
    "* This notebook was written for the [Q# Advent Calendar 2021](https://devblogs.microsoft.com/qsharp/q-advent-calendar-2021/). If you are interested in Quantum Computing or in the Q# programming language, you should go check it out.\n",
    "\n",
    "* This notebook is part of my project \"Quantum Circuits for Elementary Cellular Automata\". In that project I identified all 22 (of 256) rules which can be implemented on a quantum computer, and built cirxuits for all of them. Please check out my paper [here](http://dx.doi.org/10.13140/RG.2.2.22346.08641) and code [here](https://github.com/fedimser/quant_comp/tree/master/cellular_automata). \n",
    "\n",
    "* This is a Jupyter Notebook. You can download and execute it. For that, in addition to Python and Jupyter, you need to install Q# kernel following [these instructions](https://docs.microsoft.com/en-us/azure/quantum/install-command-line-qdk#jupyter-notebooks-using-the-net-cli). "
   ]
  }
 ],
 "metadata": {
  "kernelspec": {
   "display_name": "Q#",
   "language": "qsharp",
   "name": "iqsharp"
  },
  "language_info": {
   "file_extension": ".qs",
   "mimetype": "text/x-qsharp",
   "name": "qsharp",
   "version": "0.14"
  }
 },
 "nbformat": 4,
 "nbformat_minor": 5
}
