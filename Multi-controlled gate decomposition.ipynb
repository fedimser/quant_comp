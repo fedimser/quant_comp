{
 "cells": [
  {
   "cell_type": "markdown",
   "metadata": {},
   "source": [
    "# Multi-controlled gate decomposition\n",
    "\n",
    "In this notebook we will implement an algorithm from [this paper](https://arxiv.org/pdf/quant-ph/9503016.pdf) decomposing multi-controlled gate into sequence of 1-qubit gates, CNOT and Toffoli gates.\n"
   ]
  },
  {
   "cell_type": "code",
   "execution_count": 29,
   "metadata": {},
   "outputs": [],
   "source": [
    "import numpy as np\n",
    "import cirq\n",
    "from scipy.stats import unitary_group\n",
    "from matplotlib import pyplot as plt"
   ]
  },
  {
   "cell_type": "code",
   "execution_count": null,
   "metadata": {},
   "outputs": [],
   "source": []
  },
  {
   "cell_type": "code",
   "execution_count": 110,
   "metadata": {},
   "outputs": [],
   "source": [
    "def unitary_power(U, p):\n",
    "    \"\"\"Raises unitary matrix U to power p.\"\"\"\n",
    "    assert cirq.is_unitary(U)\n",
    "    eig_vals, eig_vectors = np.linalg.eig(U)\n",
    "    Q = np.array(eig_vectors)\n",
    "    return Q @ np.diag(np.exp(p * 1j * np.angle(eig_vals))) @ Q.conj().T\n",
    "\n",
    "def is_identity(M):\n",
    "    return np.allclose(M, np.eye(M.shape[0]))\n",
    "\n",
    "_Ry = lambda x: np.array([[np.cos(x/2), np.sin(x/2)], [-np.sin(x/2), np.cos(x/2)]])\n",
    "_Rz = lambda x: np.diag(np.exp([0.5j * x, -0.5j * x]))\n",
    "_flatten = lambda x: sum(x, [])\n",
    "\n",
    "def ccnot_explicit(c0, c1, target):\n",
    "    \"\"\"Implements action of Toffoli gate with controls `c1` and `c2` on `target`.\"\"\"\n",
    "    return [\n",
    "        cirq.H.on(target),\n",
    "        cirq.CNOT.on(c1, target),\n",
    "        cirq.ZPowGate(exponent=-0.25).on(target),\n",
    "        cirq.CNOT.on(c0, target),\n",
    "        cirq.T.on(target),\n",
    "        cirq.CNOT.on(c1, target),\n",
    "        cirq.ZPowGate(exponent=-0.25).on(target),\n",
    "        cirq.CNOT.on(c0, target),\n",
    "        cirq.T.on(c1),\n",
    "        cirq.T.on(target),\n",
    "        cirq.H.on(target),\n",
    "        cirq.CNOT.on(c0, c1),\n",
    "        cirq.T.on(c0),\n",
    "        cirq.ZPowGate(exponent=-0.25).on(c1),\n",
    "        cirq.CNOT.on(c0, c1),\n",
    "    ]\n",
    "\n",
    "\n",
    "def ccnot_congruent(c0, c1, target):\n",
    "    \"\"\"Almost CCNOT, but multiplies 4th qubit by -1. See lemma 6.2.\"\"\"\n",
    "    return [\n",
    "        cirq.ry(-np.pi/4).on(target),\n",
    "        cirq.CNOT(c1, target),\n",
    "        cirq.ry(-np.pi/4).on(target),\n",
    "        cirq.CNOT(c0, target),\n",
    "        cirq.ry(np.pi/4).on(target),\n",
    "        cirq.CNOT(c1, target),\n",
    "        cirq.ry(np.pi/4).on(target),\n",
    "    ]\n",
    " \n",
    "\n",
    "def multi_ctrl_x(controls, target, free_qubits=[]):\n",
    "    \"\"\"Implements action of multi-controlled Pauli X gate .\n",
    "    \n",
    "    Result is guaranteed to consist exclusively of 1-qubit and CNOT gates. \n",
    "    \n",
    "    If `free_qubits` has at least 1 element, result has length O(len(controls)). \n",
    "    \n",
    "    Args:\n",
    "        controls - control qubits.\n",
    "        targets - target qubits.\n",
    "        free_qubits - qubits which are neither controlled nor target, but on which \n",
    "            we are allowed to act. They can be in any state and algorithm is guaranteed\n",
    "            to return them in the same state.\n",
    "    \"\"\"\n",
    "    m = len(controls)\n",
    "    if m == 0:\n",
    "        return [cirq.X.on(target)]\n",
    "    elif m == 1:\n",
    "        return [cirq.CNOT.on(controls[0], target)]\n",
    "    elif m == 2:\n",
    "        return ccnot_explicit(controls[0], controls[1], target)\n",
    "            \n",
    "    m = len(controls)\n",
    "    n = m + 1 + len(free_qubits) \n",
    "    if (n >= 2 * m - 1) and (m >=3):\n",
    "        # Lemma 7.2.\n",
    "        seq1 = [ccnot_congruent(controls[m-2-i], free_qubits[m-4-i], free_qubits[m-3-i]) for i in range(m-3)]\n",
    "        seq2 = _flatten(seq1) + ccnot_congruent(controls[0], controls[1], free_qubits[0]) + _flatten(seq1[::-1]) \n",
    "        first_gate = ccnot_explicit(controls[m-1], free_qubits[m-3], target)\n",
    "        return first_gate + seq2 + first_gate + seq2 \n",
    "    elif len(free_qubits) >= 1: \n",
    "        # Lemma 7.3. \n",
    "        m1 = n // 2\n",
    "        seq1 = multi_ctrl_x(controls[:m1], free_qubits[0], free_qubits=controls[m1:] + [target] + free_qubits[1:])\n",
    "        seq2 = multi_ctrl_x(controls[m1:] + [free_qubits[0]], target, free_qubits = controls[:m1] + free_qubits[1:])\n",
    "        return seq1 + seq2 + seq1 + seq2\n",
    "    else: \n",
    "        # No free qubit - must use main algorithm.\n",
    "        # This will never happen if called from main algorithm and is added only for completeness.\n",
    "        X = np.array([[0, 1], [1,0]])\n",
    "        return decompose_fc_gate(X, controls, target)\n",
    "    \n",
    "def decompose_fc_gate(U, controls, target, free_qubits=[], power=1.0):\n",
    "    \"\"\"Implements action of multi-controlled unitary gate U^power.\n",
    "    \n",
    "    Result is guaranteed to consist exclusively of 1-qubit and CNOT gates.\n",
    "    \n",
    "    If `free_qubits` has at least 1 element, result has length O(len(controls)). \n",
    "    \n",
    "    Args:\n",
    "        U - 2x2 numpy unitary matrix (of real or complext type).\n",
    "        controls - control qubits. Must be non-empty.\n",
    "        targets - target qubits.\n",
    "        free_qubits - qubits which are neither controlled nor target, but on which \n",
    "            we are allowed to act. They can be in any state and algorithm is guaranteed\n",
    "            to return them in the same state.\n",
    "        power - power in which U should be raised.\n",
    "    \"\"\"\n",
    "    assert cirq.is_unitary(U)\n",
    "    assert U.shape == (2, 2)\n",
    "\n",
    "    M = unitary_power(U, power)\n",
    "\n",
    "    # Matrix parameters, see definitions in chapter 4.\n",
    "    delta = np.angle(np.linalg.det(M)) * 0.5    \n",
    "    alpha = np.angle(M[0,0]) + np.angle(M[0,1]) - 2 * delta\n",
    "    beta = np.angle(M[0,0]) - np.angle(M[0,1])\n",
    "    theta = 2 * np.arccos(np.abs(M[0,0]))\n",
    "    \n",
    "    # Decomposing matrix as per Lemma 4.3.\n",
    "    A = _Rz(alpha) @ _Ry(theta/2)\n",
    "    B = _Ry(-theta/2) @ _Rz(-(alpha+beta)/2)\n",
    "    C = _Rz((beta-alpha)/2)\n",
    "    X = np.array([[0, 1], [1, 0]])\n",
    "    assert np.allclose(A @ B @ C, np.eye(2))\n",
    "    assert np.allclose(A @ X @ B @ X @ C, M / np.exp(1j * delta), atol=1e-3)\n",
    "\n",
    "    m = len(controls) \n",
    "    \n",
    "    if m == 1:\n",
    "        # Chapter 5.1.\n",
    "        result = [\n",
    "            cirq.ZPowGate(exponent=delta/np.pi).on(controls[0]),\n",
    "            cirq.rz(-0.5*(beta-alpha)).on(target),\n",
    "            cirq.CNOT.on(controls[0], target),\n",
    "            cirq.rz(0.5*(beta+alpha)).on(target),\n",
    "            cirq.ry(0.5*theta).on(target),\n",
    "            cirq.CNOT.on(controls[0], target),\n",
    "            cirq.ry(-0.5*theta).on(target),\n",
    "            cirq.rz(-alpha).on(target),\n",
    "        ]\n",
    "        \n",
    "        # Remove no-ops.\n",
    "        result = [g for g in result if not is_identity(g._unitary_())]\n",
    "        \n",
    "        return result\n",
    "    else:   \n",
    "        gate_is_special_unitary = np.allclose(delta, 0)\n",
    "        \n",
    "        if gate_is_special_unitary:\n",
    "            # O(n) decomposition - Lemma 7.9.\n",
    "            cnot_seq = multi_ctrl_x(controls[:-1], target, free_qubits=[controls[-1]])\n",
    "            result = []\n",
    "            result += decompose_fc_gate(C, [controls[-1]], target)\n",
    "            result += cnot_seq\n",
    "            result += decompose_fc_gate(B, [controls[-1]], target)\n",
    "            result += cnot_seq\n",
    "            result += decompose_fc_gate(A, [controls[-1]], target) \n",
    "            return result   \n",
    "        else:\n",
    "            # O(n^2) decomposition - Lemma 7.5.\n",
    "            cnot_seq = multi_ctrl_x(controls[:-1], controls[-1], free_qubits=free_qubits+[target])\n",
    "            part1 = decompose_fc_gate(U, [controls[-1]], target, power=0.5*power) \n",
    "            part2 = decompose_fc_gate(U, [controls[-1]], target, power=-0.5*power) \n",
    "            part3 = decompose_fc_gate(U, controls[:-1], target, free_qubits=free_qubits+[controls[-1]], power=0.5*power)\n",
    "            return part1 + cnot_seq + part2 + cnot_seq + part3            \n",
    "    \n",
    "    return circuit"
   ]
  },
  {
   "cell_type": "code",
   "execution_count": 111,
   "metadata": {},
   "outputs": [
    {
     "name": "stdout",
     "output_type": "stream",
     "text": [
      "OK\n"
     ]
    }
   ],
   "source": [
    "# Test correctness of multi-controlled X decomposition.\n",
    "\n",
    "for n in range(2, 8):\n",
    "    qubits = cirq.LineQubit.range(n)\n",
    "    for m in range(0, n):\n",
    "        gates = multi_ctrl_x(qubits[:m], qubits[m], free_qubits=qubits[m+1:])\n",
    "\n",
    "        c1 = cirq.Circuit([cirq.I.on(q) for q in qubits])\n",
    "        c1.append(gates)\n",
    "        result_matrix = c1.unitary()\n",
    "\n",
    "        c2 = cirq.Circuit([cirq.I.on(q) for q in qubits])\n",
    "        c2 += cirq.ControlledGate(cirq.X, num_controls = m).on(*qubits[0:m+1])\n",
    "        expected_matrix = c2.unitary()\n",
    "        assert np.allclose(expected_matrix, result_matrix)\n",
    "        \n",
    "print(\"OK\")            "
   ]
  },
  {
   "cell_type": "code",
   "execution_count": 112,
   "metadata": {},
   "outputs": [
    {
     "name": "stdout",
     "output_type": "stream",
     "text": [
      "Specific matrices - OK\n",
      "Unitary matrices - OK\n",
      "Special unitary matrices - OK\n",
      "Special unitary, m=7 - OK\n",
      "Special unitary, m=8 - OK\n"
     ]
    }
   ],
   "source": [
    "# Test correctness of multi-controlled unitary decomposition.\n",
    "\n",
    "np.random.seed(88)\n",
    "\n",
    "cnot_matrix = cirq.CNOT._unitary_()\n",
    "\n",
    "def random_special_unitary():\n",
    "    U = unitary_group.rvs(2)\n",
    "    return U / np.sqrt(np.linalg.det(U))\n",
    "\n",
    "def test_decomposition(U, m):\n",
    "    qubits = cirq.LineQubit.range(m+1)\n",
    "\n",
    "    gates = decompose_fc_gate(U, qubits[:-1], qubits[-1])\n",
    "\n",
    "    # Verify that all gates are either CNOT 1-qubit gates.\n",
    "    for gate in gates:\n",
    "        u = gate._unitary_()\n",
    "        assert u.shape == (2, 2) or (u.shape == (4,4) and np.allclose(u, cnot_matrix))\n",
    "\n",
    "    result_matrix = cirq.Circuit(gates).unitary()\n",
    "    d = 2**(m+1)\n",
    "    expected_matrix = np.eye(d, dtype=np.complex128)\n",
    "    expected_matrix[d-2:d, d-2:d] = U\n",
    "\n",
    "    assert np.allclose(expected_matrix, result_matrix)\n",
    "    \n",
    "\n",
    "for gate in [cirq.X, cirq.Y, cirq.Z, cirq.H, cirq.I, cirq.T]:\n",
    "    for m in range(1, 7):\n",
    "        test_decomposition(gate._unitary_(), m)\n",
    "print (\"Specific matrices - OK\")\n",
    "\n",
    "for _ in range(5):\n",
    "    U = unitary_group.rvs(2)\n",
    "    for m in range(1, 7):\n",
    "        test_decomposition(U, m)\n",
    "print (\"Unitary matrices - OK\")\n",
    "    \n",
    "for _ in range(5):\n",
    "    U = random_special_unitary()\n",
    "    for m in range(1, 7):\n",
    "        test_decomposition(U, m)\n",
    "print (\"Special unitary matrices - OK\")\n",
    "\n",
    "U = random_special_unitary()\n",
    "for m in range(7, 9):\n",
    "    test_decomposition(U, m)\n",
    "    print (\"Special unitary, m=%d - OK\" % m)"
   ]
  },
  {
   "cell_type": "code",
   "execution_count": 113,
   "metadata": {},
   "outputs": [
    {
     "data": {
      "image/png": "[encoded data removed]",
      "text/plain": [
       "<Figure size 432x288 with 1 Axes>"
      ]
     },
     "metadata": {
      "needs_background": "light"
     },
     "output_type": "display_data"
    },
    {
     "name": "stdout",
     "output_type": "stream",
     "text": [
      "Exact line is -216.00 + 56.00 * x.\n"
     ]
    }
   ],
   "source": [
    "# Check linearity of simulating ∧_(n−2)(X) - as per chapter 7.1. \n",
    "\n",
    "def fit_exact_line(x, y, pos=10):\n",
    "    a = (y[pos+1]-y[pos])/(x[pos+1]-x[pos])\n",
    "    b = y[pos] - a * x[pos]\n",
    "    for i in range(pos, len(x)):\n",
    "        assert y[i] == a*x[i] + b\n",
    "    print(\"Exact line is %.02f + %.02f * x.\" % (b, a))\n",
    "\n",
    "n_range = list(range(2, 100))\n",
    "gates_count = []\n",
    "for n in n_range:\n",
    "    qubits = cirq.LineQubit.range(n)\n",
    "    gates = multi_ctrl_x(qubits[:-2], qubits[-1], free_qubits=[qubits[-2]])\n",
    "    gates_count.append(len(gates))\n",
    "    \n",
    "plt.plot(n_range, gates_count)\n",
    "plt.xlabel('n (number of control qubits + 2)')\n",
    "plt.ylabel('Number of elementary gates')\n",
    "plt.title('Simulating multi-controlled X gate')\n",
    "plt.show()\n",
    "fit_exact_line(n_range, gates_count)"
   ]
  },
  {
   "cell_type": "code",
   "execution_count": 114,
   "metadata": {},
   "outputs": [
    {
     "data": {
      "image/png": "[encoded data removed]",
      "text/plain": [
       "<Figure size 432x288 with 1 Axes>"
      ]
     },
     "metadata": {
      "needs_background": "light"
     },
     "output_type": "display_data"
    },
    {
     "name": "stdout",
     "output_type": "stream",
     "text": [
      "Exact line is -414.00 + 112.00 * x.\n"
     ]
    }
   ],
   "source": [
    "# Check linearity of simulating multi-controlled SU gate. \n",
    "\n",
    "U = random_special_unitary()\n",
    "n_range = list(range(2, 100))\n",
    "gates_count = []\n",
    "for n in n_range:\n",
    "    qubits = cirq.LineQubit.range(n)\n",
    "    gates = decompose_fc_gate(U, qubits[:-1], qubits[-1])\n",
    "    gates_count.append(len(gates))\n",
    "    \n",
    "plt.plot(n_range, gates_count)\n",
    "plt.xlabel('n (number of control qubits + 1)')\n",
    "plt.ylabel('Number of elementary gates')\n",
    "plt.title('Simulating multi-controlled SU(2) gate.')\n",
    "plt.show()\n",
    "fit_exact_line(n_range, gates_count)"
   ]
  },
  {
   "cell_type": "code",
   "execution_count": null,
   "metadata": {},
   "outputs": [],
   "source": [
    "# Complexity of simulating multi-controlled general unitary gate. \n",
    "\n",
    "U = unitary_group.rvs(2)\n",
    "n_range = list(range(2, 100))\n",
    "gates_count = []\n",
    "for n in n_range:\n",
    "    qubits = cirq.LineQubit.range(n)\n",
    "    gates = decompose_fc_gate(U, qubits[:-1], qubits[-1])\n",
    "    gates_count.append(len(gates))\n",
    "    \n",
    "plt.plot(n_range, gates_count)\n",
    "plt.xlabel('n (number of control qubits + 1)')\n",
    "plt.ylabel('Number of elementary gates')\n",
    "plt.title('Simulating multi-controlled U(2) gate.')\n",
    "plt.show()"
   ]
  },
  {
   "cell_type": "markdown",
   "metadata": {},
   "source": [
    "Why is it becoming linear at n >= 60? Because matrix square gets called so much times, the matrix becomes very close to identity, which is detected as special unitary, and corresponding linear algorithm is appllied."
   ]
  }
 ],
 "metadata": {
  "kernelspec": {
   "display_name": "Python 3",
   "language": "python",
   "name": "python3"
  },
  "language_info": {
   "codemirror_mode": {
    "name": "ipython",
    "version": 3
   },
   "file_extension": ".py",
   "mimetype": "text/x-python",
   "name": "python",
   "nbconvert_exporter": "python",
   "pygments_lexer": "ipython3",
   "version": "3.7.5"
  }
 },
 "nbformat": 4,
 "nbformat_minor": 2
}
