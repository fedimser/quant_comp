{
 "cells": [
  {
   "cell_type": "markdown",
   "metadata": {},
   "source": [
    "# Multi-controlled gate decomposition\n",
    "\n",
    "In this notebook we will implement an algorithm from [this paper](https://arxiv.org/pdf/quant-ph/9503016.pdf) decomposing multi-controlled gate into sequence of 1-qubit gates and CNOT gates.\n"
   ]
  },
  {
   "cell_type": "code",
   "execution_count": 1,
   "metadata": {},
   "outputs": [],
   "source": [
    "import numpy as np\n",
    "import cirq\n",
    "from scipy.stats import unitary_group\n",
    "from matplotlib import pyplot as plt"
   ]
  },
  {
   "cell_type": "code",
   "execution_count": 2,
   "metadata": {},
   "outputs": [
    {
     "data": {
      "text/plain": [
       "<module 'controlled_gate_decomposer' from 'D:\\\\quant_comp\\\\controlled_gate_decomposer.py'>"
      ]
     },
     "execution_count": 2,
     "metadata": {},
     "output_type": "execute_result"
    }
   ],
   "source": [
    "import controlled_gate_decomposer as cgd\n",
    "import importlib\n",
    "importlib.reload(cgd)"
   ]
  },
  {
   "cell_type": "markdown",
   "metadata": {},
   "source": [
    "## Testing Multi-controlled X decomposition"
   ]
  },
  {
   "cell_type": "code",
   "execution_count": 3,
   "metadata": {},
   "outputs": [
    {
     "name": "stdout",
     "output_type": "stream",
     "text": [
      "OK\n"
     ]
    }
   ],
   "source": [
    "# Test correctness of multi-controlled X decomposition.\n",
    "\n",
    "def _test_multi_ctrl_x(dec):\n",
    "    for n in range(2, 8):\n",
    "        qubits = cirq.LineQubit.range(n)\n",
    "        for m in range(0, n):\n",
    "            gates = dec.multi_ctrl_x(qubits[:m], qubits[m], free_qubits=qubits[m+1:])\n",
    "\n",
    "            c1 = cirq.Circuit([cirq.I.on(q) for q in qubits])\n",
    "            c1.append(gates)\n",
    "            result_matrix = c1.unitary()\n",
    "\n",
    "            c2 = cirq.Circuit([cirq.I.on(q) for q in qubits])\n",
    "            c2 += cirq.ControlledGate(cirq.X, num_controls = m).on(*qubits[0:m+1])\n",
    "            expected_matrix = c2.unitary()\n",
    "            assert np.allclose(expected_matrix, result_matrix)\n",
    "        \n",
    "_test_multi_ctrl_x(cgd.ControlledGateDecomposer(allow_toffoli=True))\n",
    "_test_multi_ctrl_x(cgd.ControlledGateDecomposer(allow_toffoli=False))\n",
    "print(\"OK\")"
   ]
  },
  {
   "cell_type": "code",
   "execution_count": 4,
   "metadata": {},
   "outputs": [
    {
     "data": {
      "image/png": "[encoded data removed]",
      "text/plain": [
       "<Figure size 432x288 with 1 Axes>"
      ]
     },
     "metadata": {
      "needs_background": "light"
     },
     "output_type": "display_data"
    },
    {
     "name": "stdout",
     "output_type": "stream",
     "text": [
      "With CCNOTs Exact line is -40.00 + 8.00 * x.\n",
      "With CNOTs only Exact line is -216.00 + 56.00 * x.\n"
     ]
    }
   ],
   "source": [
    "# Check linearity of simulating ∧_(n−2)(X) - as per chapter 7.1. \n",
    "\n",
    "dec1 = cgd.ControlledGateDecomposer(allow_toffoli=True)\n",
    "dec2 = cgd.ControlledGateDecomposer(allow_toffoli=False)\n",
    "\n",
    "\n",
    "def fit_exact_line(x, y, pos=10, label=\"\"):\n",
    "    a = (y[pos+1]-y[pos])/(x[pos+1]-x[pos])\n",
    "    b = y[pos] - a * x[pos]\n",
    "    for i in range(pos, len(x)):\n",
    "        assert y[i] == a*x[i] + b\n",
    "    print(label + \" Exact line is %.02f + %.02f * x.\" % (b, a))\n",
    "\n",
    "n_range = list(range(2, 100))\n",
    "gates_count1 = []\n",
    "gates_count2 = []\n",
    "for n in n_range:\n",
    "    qubits = cirq.LineQubit.range(n)\n",
    "    gates1 = dec1.multi_ctrl_x(qubits[:-2], qubits[-1], free_qubits=[qubits[-2]])\n",
    "    gates_count1.append(len(gates1))\n",
    "    gates2 = dec2.multi_ctrl_x(qubits[:-2], qubits[-1], free_qubits=[qubits[-2]])\n",
    "    gates_count2.append(len(gates2))\n",
    "    \n",
    "    assert (len(gates1) <= max(8*n-40, 10))\n",
    "    assert (len(gates2) <= max(56*n-216, 44))\n",
    "    \n",
    "    \n",
    "plt.plot(n_range, gates_count1, label='With CCNOTs')\n",
    "plt.plot(n_range, gates_count2, label='With CNOTs only')\n",
    "plt.xlabel('n (number of control qubits + 2)')\n",
    "plt.ylabel('Number of elementary gates')\n",
    "plt.title('Simulating multi-controlled X gate')\n",
    "plt.legend()\n",
    "plt.show()\n",
    "fit_exact_line(n_range, gates_count1, label='With CCNOTs')\n",
    "fit_exact_line(n_range, gates_count2, label='With CNOTs only')\n"
   ]
  },
  {
   "cell_type": "markdown",
   "metadata": {},
   "source": [
    "## Testing unitary decomposition"
   ]
  },
  {
   "cell_type": "code",
   "execution_count": 5,
   "metadata": {},
   "outputs": [
    {
     "name": "stdout",
     "output_type": "stream",
     "text": [
      "Specific matrices - OK\n",
      "Unitary matrices - OK\n",
      "Special unitary matrices - OK\n",
      "Special unitary, m=6 - OK\n",
      "Special unitary, m=7 - OK\n",
      "Special unitary, m=8 - OK\n",
      "Unitary, m=6 - OK\n",
      "Unitary, m=7 - OK\n",
      "Unitary, m=8 - OK\n"
     ]
    }
   ],
   "source": [
    "# Test correctness of multi-controlled unitary decomposition.\n",
    "\n",
    "np.random.seed(88)\n",
    "\n",
    "ccnot_matrix = cirq.CCNOT._unitary_()\n",
    "cnot_matrix = cirq.CNOT._unitary_()\n",
    "\n",
    "def _random_unitary():\n",
    "    return unitary_group.rvs(2)\n",
    "\n",
    "def _random_special_unitary():\n",
    "    U = _random_unitary()\n",
    "    return U / np.sqrt(np.linalg.det(U))\n",
    "\n",
    "def _validate_matrix(u, allow_toffoli=False):\n",
    "    if u.shape == (2, 2):\n",
    "        pass\n",
    "    elif u.shape == (4, 4):\n",
    "        assert np.allclose(u, cnot_matrix)\n",
    "    elif u.shape == (8, 8):\n",
    "        assert allow_toffoli and np.allclose(u, ccnot_matrix)\n",
    "    else:\n",
    "        raise AssertionError('Bad matrix shape')\n",
    "        \n",
    "def _test_decomposition_with(U, m, dec):\n",
    "    qubits = cirq.LineQubit.range(m+1)\n",
    "\n",
    "    gates = dec.decompose(U, qubits[:-1], qubits[-1])\n",
    "\n",
    "    # Verify that all gates are either CNOT 1-qubit gates.\n",
    "    for gate in gates:\n",
    "        _validate_matrix(gate._unitary_(), dec.allow_toffoli)\n",
    "\n",
    "    result_matrix = cirq.Circuit(gates).unitary()\n",
    "    d = 2**(m+1)\n",
    "    expected_matrix = np.eye(d, dtype=np.complex128)\n",
    "    expected_matrix[d-2:d, d-2:d] = U\n",
    "        \n",
    "    assert np.allclose(expected_matrix, result_matrix)\n",
    "    \n",
    "def _test_decomposition(U, m):\n",
    "    \"\"\"Test decomposition with given 2x2 matrix and number of controls.\"\"\"\n",
    "    _test_decomposition_with(U, m, cgd.ControlledGateDecomposer(allow_toffoli=True))\n",
    "    _test_decomposition_with(U, m, cgd.ControlledGateDecomposer(allow_toffoli=False))\n",
    "    \n",
    "\n",
    "for gate in [cirq.X, cirq.Y, cirq.Z, cirq.H, cirq.I, cirq.T]:\n",
    "    for m in range(1, 7):\n",
    "        _test_decomposition(gate._unitary_(), m)\n",
    "print (\"Specific matrices - OK\")\n",
    "\n",
    "for _ in range(10):\n",
    "    U = unitary_group.rvs(2)\n",
    "    for m in range(1, 6):\n",
    "        _test_decomposition(U, m)\n",
    "print (\"Unitary matrices - OK\")\n",
    "    \n",
    "for _ in range(10):\n",
    "    U = _random_special_unitary()\n",
    "    for m in range(1, 7):\n",
    "        _test_decomposition(U, m)\n",
    "print (\"Special unitary matrices - OK\")\n",
    "\n",
    "U = _random_special_unitary()\n",
    "for m in range(6, 9):\n",
    "    _test_decomposition(U, m)\n",
    "    print (\"Special unitary, m=%d - OK\" % m)\n",
    "    \n",
    "U = _random_unitary()\n",
    "for m in range(6, 9):\n",
    "    _test_decomposition(U, m)\n",
    "    print (\"Unitary, m=%d - OK\" % m)    "
   ]
  },
  {
   "cell_type": "code",
   "execution_count": 6,
   "metadata": {},
   "outputs": [],
   "source": [
    "def _decomp_size(U, controls_count, dec):\n",
    "    qubits = cirq.LineQubit.range(controls_count+1)\n",
    "    return len(dec.decompose(U, qubits[:controls_count], qubits[-1]))\n",
    "\n",
    "# Test special unitary dec sizes - with toffoli\n",
    "dec = cgd.ControlledGateDecomposer(allow_toffoli=True)\n",
    "U = _random_special_unitary()\n",
    "assert _decomp_size(U, 1, dec) == 7\n",
    "assert _decomp_size(U, 2, dec) == 20\n",
    "assert _decomp_size(U, 3, dec) == 20\n",
    "assert _decomp_size(U, 4, dec) == 26\n",
    "assert _decomp_size(U, 5, dec) == 38\n",
    "for controls_count in range(6, 50):\n",
    "    assert _decomp_size(U, controls_count, dec) == 16 * controls_count - 46\n",
    "    \n",
    "# Test special unitary dec sizes - without toffoli\n",
    "dec = cgd.ControlledGateDecomposer(allow_toffoli=False)\n",
    "U = _random_special_unitary()\n",
    "assert _decomp_size(U, 1, dec) == 7\n",
    "assert _decomp_size(U, 2, dec) == 20\n",
    "assert _decomp_size(U, 3, dec) == 48\n",
    "assert _decomp_size(U, 4, dec) == 106\n",
    "assert _decomp_size(U, 5, dec) == 254\n",
    "assert _decomp_size(U, 6, dec) == 370\n",
    "\n",
    "for controls_count in range(6, 50):\n",
    "    assert _decomp_size(U, controls_count, dec) == -302 + 112 * controls_count"
   ]
  },
  {
   "cell_type": "code",
   "execution_count": 7,
   "metadata": {},
   "outputs": [],
   "source": [
    "# Test general unitary dec sizes - with toffoli\n",
    "dec = cgd.ControlledGateDecomposer(allow_toffoli=True)\n",
    "\n",
    "np.random.seed(3)\n",
    "U = unitary_group.rvs(2)\n",
    "\n",
    "assert _decomp_size(U, 1, dec) == 8\n",
    "assert _decomp_size(U, 2, dec) == 26\n",
    "assert _decomp_size(U, 3, dec) == 44\n",
    "assert _decomp_size(U, 4, dec) == 68\n",
    "assert _decomp_size(U, 5, dec) == 104\n",
    "assert _decomp_size(U, 10, dec) == 476\n",
    "assert _decomp_size(U, 20, dec) == 2264\n",
    "assert _decomp_size(U, 30, dec) == 5419\n",
    "assert _decomp_size(U, 40, dec) == 9623"
   ]
  },
  {
   "cell_type": "code",
   "execution_count": 8,
   "metadata": {},
   "outputs": [
    {
     "data": {
      "image/png": "[encoded data removed]",
      "text/plain": [
       "<Figure size 432x288 with 1 Axes>"
      ]
     },
     "metadata": {
      "needs_background": "light"
     },
     "output_type": "display_data"
    },
    {
     "name": "stdout",
     "output_type": "stream",
     "text": [
      " Exact line is -302.00 + 112.00 * x.\n"
     ]
    }
   ],
   "source": [
    "# Check linearity of simulating multi-controlled SU gate. \n",
    "\n",
    "dec = cgd.ControlledGateDecomposer(allow_toffoli=False)\n",
    "\n",
    "U = _random_special_unitary()\n",
    "m_range = list(range(1, 40))\n",
    "gates_count = []\n",
    "for m in m_range:\n",
    "    qubits = cirq.LineQubit.range(m+1)\n",
    "    gates = dec.decompose(U, qubits[:-1], qubits[-1])\n",
    "    gates_count.append(len(gates))\n",
    "    \n",
    "plt.plot(m_range, gates_count)\n",
    "plt.xlabel('Number of control qubits')\n",
    "plt.ylabel('Number of elementary gates')\n",
    "plt.title('Simulating multi-controlled SU(2) gate.')\n",
    "plt.show()\n",
    "fit_exact_line(m_range, gates_count)"
   ]
  },
  {
   "cell_type": "code",
   "execution_count": 9,
   "metadata": {},
   "outputs": [
    {
     "data": {
      "image/png": "[encoded data removed]",
      "text/plain": [
       "<Figure size 432x288 with 1 Axes>"
      ]
     },
     "metadata": {
      "needs_background": "light"
     },
     "output_type": "display_data"
    }
   ],
   "source": [
    "# Complexity of simulating multi-controlled general unitary gate. \n",
    "\n",
    "dec1 = cgd.ControlledGateDecomposer(allow_toffoli=True)\n",
    "dec2 = cgd.ControlledGateDecomposer(allow_toffoli=False)\n",
    "\n",
    "U = unitary_group.rvs(2)\n",
    "m_range = list(range(1, 50))\n",
    "gates_count_1 = []\n",
    "gates_count_2 = []\n",
    "for m in m_range:\n",
    "    qubits = cirq.LineQubit.range(m+1)\n",
    "    gates1 = dec1.decompose(U, qubits[:-1], qubits[-1])\n",
    "    gates_count_1.append(len(gates1)/ (m**2))\n",
    "    \n",
    "    gates2 = dec2.decompose(U, qubits[:-1], qubits[-1])\n",
    "    gates_count_2.append(len(gates2)/ (m**2))\n",
    "    \n",
    "    \n",
    "plt.plot(m_range, gates_count_1, label='With CCNOTs')\n",
    "plt.plot(m_range, gates_count_2, label='With CNOTs only')\n",
    "plt.xlabel('m (Number of control qubits)')\n",
    "plt.ylabel('Number of elementary gates / m^2')\n",
    "plt.title('Simulating multi-controlled U(2) gate.')\n",
    "plt.legend()\n",
    "plt.show()"
   ]
  }
 ],
 "metadata": {
  "kernelspec": {
   "display_name": "Python 3",
   "language": "python",
   "name": "python3"
  },
  "language_info": {
   "codemirror_mode": {
    "name": "ipython",
    "version": 3
   },
   "file_extension": ".py",
   "mimetype": "text/x-python",
   "name": "python",
   "nbconvert_exporter": "python",
   "pygments_lexer": "ipython3",
   "version": "3.7.5"
  }
 },
 "nbformat": 4,
 "nbformat_minor": 2
}
