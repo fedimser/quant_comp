{
 "cells": [
  {
   "cell_type": "markdown",
   "metadata": {},
   "source": [
    "# All 1-qubit Clifford gates \n",
    "\n",
    "Code below generates all 24 possible single-qubit Clifford gates (modulo phase).\n",
    "\n",
    "Each gate is represented as product of H and S gates.\n",
    "\n",
    "\"Signature\" of gate U is pair $U X U^+, U Z U^+$."
   ]
  },
  {
   "cell_type": "code",
   "execution_count": 75,
   "metadata": {},
   "outputs": [
    {
     "name": "stdout",
     "output_type": "stream",
     "text": [
      "24\n",
      "Z-Y HSHS\n",
      "-Y-Z HSSHS\n",
      "ZX H\n",
      "-XZ SS\n",
      "ZY SH\n",
      "YZ S\n",
      "XZ \n",
      "YX HSSS\n",
      "-YX HS\n",
      "-ZX HSS\n",
      "XY HSSSH\n",
      "-YZ SSS\n",
      "X-Z SHSSHS\n",
      "Z-X SSH\n",
      "X-Y HSH\n",
      "Y-X SSHS\n",
      "-ZY SHSS\n",
      "-X-Y SSSHS\n",
      "-XY SSHSH\n",
      "Y-Z SHSSH\n",
      "-Z-Y HSHSSS\n",
      "-Y-X SSSHSH\n",
      "-Z-X SSHSS\n",
      "-X-Z HSSHSS\n"
     ]
    }
   ],
   "source": [
    "import cirq\n",
    "import numpy as np \n",
    "\n",
    "H = cirq.unitary(cirq.H) \n",
    "S = cirq.unitary(cirq.S)\n",
    "X = cirq.unitary(cirq.X)\n",
    "Y = cirq.unitary(cirq.Y)\n",
    "Z = cirq.unitary(cirq.Z)\n",
    "I = np.eye(2)\n",
    "\n",
    "KNOWN_GATES = {\n",
    "    'I': I,\n",
    "    'X': X,\n",
    "    'Y': Y, \n",
    "    'Z': Z,\n",
    "    'S': S,\n",
    "    'H': H\n",
    "}\n",
    "\n",
    "def recognize(U):\n",
    "    for name, gate in KNOWN_GATES.items():\n",
    "        if np.allclose(gate, U):\n",
    "            return name\n",
    "        if np.allclose(gate, -U):\n",
    "            return '-' + name\n",
    "\n",
    "def gate_signature(U):\n",
    "    return recognize(U @ X @ U.conj().T) + recognize(U @ Z @ U.conj().T)\n",
    " \n",
    "\n",
    "def generate_random_clifford():\n",
    "    l = np.random.randint(7)\n",
    "    gate = np.eye(2)\n",
    "    name = ''\n",
    "    for _ in range(l):\n",
    "        if np.random.randint(2) == 0:\n",
    "            name += 'H'\n",
    "            gate = gate @ H\n",
    "        else:\n",
    "            name += 'S'\n",
    "            gate = gate @ S\n",
    "    name = name.replace('HH', '')\n",
    "    return gate, name\n",
    "\n",
    "\n",
    "result = {}\n",
    "\n",
    "for _ in range(1000):\n",
    "    U, name = generate_random_clifford()\n",
    "    signature = gate_signature(U)\n",
    "    \n",
    "    if not signature in result:\n",
    "        result[signature] = name\n",
    "        \n",
    "print(len(result))\n",
    "\n",
    "for signature, gate in result.items():\n",
    "    print (signature, gate)\n"
   ]
  }
 ],
 "metadata": {
  "kernelspec": {
   "display_name": "Python 3",
   "language": "python",
   "name": "python3"
  },
  "language_info": {
   "codemirror_mode": {
    "name": "ipython",
    "version": 3
   },
   "file_extension": ".py",
   "mimetype": "text/x-python",
   "name": "python",
   "nbconvert_exporter": "python",
   "pygments_lexer": "ipython3",
   "version": "3.7.5"
  }
 },
 "nbformat": 4,
 "nbformat_minor": 2
}
