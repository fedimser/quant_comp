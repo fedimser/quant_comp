{
 "cells": [
  {
   "cell_type": "markdown",
   "metadata": {},
   "source": [
    "## Quantum Circuit Simulator From Scratch\n",
    "\n",
    "Dmytro Fedoriaka, March 2021.\n",
    "\n",
    "In this notebook I aim to implement very simple simulator of Quantum Circuits using only NumPy, which supports all basic functionality (qubits, gates and measurements).\n",
    "\n",
    "I don't intend it to be used by other people, because there are already hunderds of such simulators. Goal is to check how easy it is to implement such a simulator from scratch. I just told someone that it's very easy and even trivial, but I realized that I haven't done that myself.\n",
    "\n",
    "Also I don't intend to make it efficient, because anyway simulation is exponetially hard. So every operation will have $O(2^N)$ complexity.\n",
    "\n",
    "**Model**\n",
    "\n",
    "Our simulator will simulate a register with $N$ qubits. It will be explicitly represented in memory by a state vector, i.e. normalized complex vector with $2^N$ elements.\n",
    "\n",
    "The most confusing part for me, when working with qubits, is to have consistent \"[endianness](https://en.wikipedia.org/wiki/Endianness)\" - that is, whether our register is big-endian or little-endian. In this project it will be always little-endian: qubit with index 0 is encoded by least significant bit in state index. So, for $N=2$, vector $(a_0, a_1, a_2, a_3)^T$ encodes state \n",
    "$a_0 |0 \\rangle  |0 \\rangle + a_0 |1 \\rangle  |0 \\rangle + a_2 |0 \\rangle  |1 \\rangle + a_3 |1 \\rangle  |1 \\rangle$, and qubits in tensor product are numbered from left to right, starting from 0.\n",
    "\n",
    "\n",
    "**Operations**\n",
    "\n",
    "There are two fundamental operations which quantum computer must perform: apllying gate ad measurement.\n",
    "\n",
    "**Gate.** To apply gate, specified by matrix and list of qubits, we will first represent this gate as $2^N \\times 2^N$ unitary matrix acting on entire state vector and then just multipy it by the vector.\n",
    "\n",
    "\n",
    "**Measurement.** To apply measurement on given qubit (with index i) we will first respresent state as \n",
    "$| \\psi \\rangle = | 0 \\rangle_i \\otimes |\\psi_0 \\rangle + | 1 \\rangle_i \\otimes |\\psi_1 \\rangle$ (this is splitting $2^N$-dmesional vector into two $2^{N-1}$-dimesnional vectors. Then define probabilities $p_0 = \\langle \\psi_0 | \\psi_0 \\rangle, p_1 = \\langle \\psi_1 | \\psi_1 \\rangle$. Then with probability $p_0$ replace state with $  | 0 \\rangle_i \\otimes |\\psi_0 \\rangle $, and otherwise - with $| 1 \\rangle_i \\otimes |\\psi_1 \\rangle $. Then normalize. Which option we chose determines result of the measurement."
   ]
  },
  {
   "cell_type": "code",
   "execution_count": 12,
   "metadata": {},
   "outputs": [],
   "source": [
    "import numpy as np\n",
    "\n",
    "class QubitRegister:\n",
    "    \"\"\"Resgiter of qubits of fixed size.\"\"\"\n",
    "    \n",
    "    def __init__(self, n):\n",
    "        self.n = n\n",
    "        # Initalize 'all zeros' state.\n",
    "        self.state = np.zeros(2**self.n, dtype=np.complex128)\n",
    "        self.state[0] = 1\n",
    "    \n",
    "    def gate(self, A, qubit_ids):\n",
    "        \"\"\"Apply given gate to given set of qubits.\"\"\"\n",
    "        k = len(qubit_ids)\n",
    "        assert A.shape == (2**k, 2**k), \"Matrix has wrong shape.\"\n",
    "        assert np.allclose(np.eye(2**k), A @ A.conj().T), \"Matrix is not unitary.\"\n",
    "        for id in qubit_ids:\n",
    "            assert id >= 0  and id < self.n\n",
    "        # Construct full matrix, acting on entire state space.\n",
    "        U = np.zeros((2**self.n, 2**self.n), dtype = np.complex128)\n",
    "        mask = sum(2**i for i in range(self.n) if i not in qubit_ids)\n",
    "        def extract_idx(idx):\n",
    "            ans = 0\n",
    "            for i in range(k):\n",
    "                ans += ((idx>>qubit_ids[i])%2)<<i\n",
    "            return ans\n",
    "        for i in range(2**self.n):\n",
    "            for j in range(2**self.n):\n",
    "                if (i & mask) == (j & mask):\n",
    "                    U[i][j] = A[extract_idx(i)][extract_idx(j)]             \n",
    "        # Apply the matrix.\n",
    "        self.state = U @ self.state        \n",
    "    \n",
    "    def measure(self, qubit_id):\n",
    "        \"\"\"Measures given qubit in computational basis.\"\"\"\n",
    "        # Split into parts corresponding to basis states.\n",
    "        p = np.zeros((2, 2**self.n), dtype = np.complex128)\n",
    "        for i in range(2**self.n):\n",
    "            p[(i >> qubit_id) % 2][i] = self.state[i]\n",
    "        assert np.allclose(p[0]+p[1], self.state)\n",
    "        # Compute probability of outcomes.\n",
    "        prob0 = np.dot(p[0].conj(), p[0])\n",
    "        prob1 = np.dot(p[1].conj(), p[1])\n",
    "        assert np.allclose(prob0 + prob1, 1)\n",
    "        # Choose the outcome.\n",
    "        result = 0 if (np.random.random() < prob0) else 1\n",
    "        # Collapse wavefunction and normalize it.\n",
    "        self.state = p[result]\n",
    "        self.state /= np.linalg.norm(self.state)\n",
    "        return result\n",
    "    \n",
    "    # Here implementation of the simulator ends.\n",
    "    # Below are just definitions of common gates, for convenience.\n",
    "    def X(self, qubit_id):\n",
    "        self.gate(np.array([[0, 1], [1, 0]]), [qubit_id])\n",
    "        \n",
    "    def Y(self, qubit_id):\n",
    "        self.gate(np.array([[0, -1j], [1j, 0]]), [qubit_id])\n",
    "\n",
    "    def Z(self, qubit_id):\n",
    "        self.gate(np.array([[1, 0], [0, -1]]), [qubit_id])\n",
    "        \n",
    "    def Ry(self, theta, qubit_id):\n",
    "        U = np.array([[np.cos(theta/2), -np.sin(theta/2)], [np.sin(theta/2), np.cos(theta/2)]])\n",
    "        self.gate(U, [qubit_id])\n",
    "        \n",
    "    def H(self, qubit_id):\n",
    "        \"\"\"Hadamard gate.\"\"\"\n",
    "        self.gate(np.array([[1, 1], [1, -1]] / np.sqrt(2)), [qubit_id])\n",
    "        \n",
    "    def CNOT(self, control, target):\n",
    "        U = np.array([[1, 0, 0, 0], [0, 0, 0, 1], [0, 0, 1, 0], [0, 1, 0, 0]])\n",
    "        self.gate(U, [control, target])\n",
    "        \n",
    "    def QFT(self, qubit_ids):\n",
    "        \"\"\"Quantum Fourier transform.\"\"\"\n",
    "        k = len(qubit_ids)\n",
    "        w = np.exp(2j*np.pi/(2**k))\n",
    "        U = np.array([[w**(i*j) for i in range(2**k)] for j in range(2**k)]) / np.sqrt(2**k)\n",
    "        self.gate(U, qubit_ids)"
   ]
  },
  {
   "cell_type": "markdown",
   "metadata": {},
   "source": [
    "That's it! Strictly speaking, gates definitions are not necessary part of the simulator. So implementation of simulator itself takes about 50 lines of code.\n",
    "\n",
    "Now let's verify it works correctly."
   ]
  },
  {
   "cell_type": "markdown",
   "metadata": {},
   "source": [
    "### Demo: preparing Bell state."
   ]
  },
  {
   "cell_type": "code",
   "execution_count": 2,
   "metadata": {},
   "outputs": [
    {
     "name": "stdout",
     "output_type": "stream",
     "text": [
      "[0.70710678+0.j 0.        +0.j 0.        +0.j 0.70710678+0.j]\n"
     ]
    }
   ],
   "source": [
    "reg = QubitRegister(2)\n",
    "reg.H(0)\n",
    "reg.CNOT(0, 1)\n",
    "print(reg.state)"
   ]
  },
  {
   "cell_type": "markdown",
   "metadata": {},
   "source": [
    "### Demo: quantum teleportation\n",
    "\n",
    "This is the circuit for quantum teleportation:\n",
    "\n",
    "![Teleportation](pic/teleportation.jpg)\n",
    "\n",
    "Let's teleport state $| \\psi \\rangle = \\sin(\\frac{\\theta}{2}) | 0 \\rangle + \\sin(\\frac{\\theta}{2}) | 1 \\rangle$.\n",
    "\n",
    "Let's fix value of $\\theta$ and then many times prepare qubit 0 in state $| \\psi \\rangle$, apply teleportation circuit and measure qubit 2. Qubit 2 must be in state $| \\psi \\rangle$ before this measurement, so probability of measurement outcome 1 is $\\sin^2(\\theta/2)$."
   ]
  },
  {
   "cell_type": "code",
   "execution_count": 8,
   "metadata": {},
   "outputs": [
    {
     "name": "stdout",
     "output_type": "stream",
     "text": [
      "Estimated probability: 0.328000\n",
      "Expected probability: 0.334767\n",
      "Error: 0.006767\n"
     ]
    }
   ],
   "source": [
    "def teleport_circuit(reg):\n",
    "    # Prepare shared pair of qubits (1 and 2).\n",
    "    reg.H(2)\n",
    "    reg.CNOT(2, 1)\n",
    "    \n",
    "    # Alice entangles her qubit from entangled pair (1) with qubit to teleport.\n",
    "    reg.CNOT(0, 1)\n",
    "    reg.H(0)\n",
    "    \n",
    "    # Alice makes 2 measurements\n",
    "    m0 = reg.measure(0)\n",
    "    m1 = reg.measure(1)\n",
    "\n",
    "    # Bob uses results of measurement to rotate hois qubit.\n",
    "    if m1==1: reg.X(2)\n",
    "    if m0==1: reg.Z(2)\n",
    "    \n",
    "    \n",
    "def test_teleport(theta):\n",
    "    times = 1000 # Increase to improve accuracy. \n",
    "    measure1_count = 0\n",
    "    for _ in range(times):\n",
    "        reg = QubitRegister(3)\n",
    "        reg.Ry(theta, 0)    \n",
    "        teleport_circuit(reg)\n",
    "        measure1_count += reg.measure(2)\n",
    "    \n",
    "    estimated_prob = measure1_count/times\n",
    "    expected_prob = np.sin(0.5*theta)**2\n",
    "    print('Estimated probability: %.06f' % estimated_prob)\n",
    "    print('Expected probability: %.06f' % expected_prob)\n",
    "    print('Error: %.06f' % np.abs(expected_prob - estimated_prob))\n",
    "    \n",
    "test_teleport(1.234)        "
   ]
  },
  {
   "cell_type": "markdown",
   "metadata": {},
   "source": [
    "### Demo: Deutsch-Jozsa algorithm\n",
    "\n",
    "See https://en.wikipedia.org/wiki/Deutsch%E2%80%93Jozsa_algorithm.\n",
    "\n",
    "We will consider function $f$ on N=5 qubits which is either balanced or constant. It will be implemented by an oracle acting on another qubit.\n",
    "\n",
    "Our task is to determine whether function is constant or balanced."
   ]
  },
  {
   "cell_type": "code",
   "execution_count": 9,
   "metadata": {},
   "outputs": [
    {
     "name": "stdout",
     "output_type": "stream",
     "text": [
      "Constant OK.\n",
      "Balanced OK.\n"
     ]
    }
   ],
   "source": [
    "N = 5\n",
    "\n",
    "def deutsch_jozsa(oracle):\n",
    "    \"\"\"`oracle` is oracle for function f which is either constant or balanced.\"\"\"\n",
    "    # Prepare state.\n",
    "    reg = QubitRegister(N+1)\n",
    "    reg.X(N)\n",
    "    for i in range(N+1):\n",
    "        reg.H(i)\n",
    "\n",
    "    # Act with oracle.\n",
    "    oracle(reg)\n",
    "\n",
    "    # Apply Hadamard gates.\n",
    "    for i in range(N):\n",
    "        reg.H(i)\n",
    "\n",
    "    # Measurement.\n",
    "    result = sum([2**i * reg.measure(i) for i in range(N)])\n",
    "    if result == 0:\n",
    "        return \"Constant\"\n",
    "    else:\n",
    "        return \"Balanced\"\n",
    "    \n",
    "# Generates oracle for random balanced function.\n",
    "def random_balanced_function():\n",
    "    U = np.zeros((2**(N+1), 2**(N+1)), dtype=np.complex128)\n",
    "    Psi_1 = set(np.random.choice(range(2**N), 2**(N-1), replace=False))\n",
    "    for psi in range(2**N):\n",
    "        f = 1 if psi in Psi_1 else 0 # value of function on this state.\n",
    "        for i in range(2):\n",
    "            U[psi + (2**N) * i][psi + (2**N) * ((i + f) % 2)] = 1.0 \n",
    "    \n",
    "    def oracle(reg): \n",
    "        reg.gate(U, list(range(N+1)))\n",
    "    return oracle\n",
    "    \n",
    "# Generates oracle for random constant function.\n",
    "# There are only 2 such functions: no-op, and X on target qubit.\n",
    "def random_constant_function():\n",
    "    if np.random.random() < 0.5:\n",
    "        def oracle(reg): \n",
    "            pass\n",
    "        return oracle\n",
    "    else:\n",
    "        def oracle(reg): \n",
    "            reg.X(N)\n",
    "        return oracle\n",
    "    \n",
    "for i in range(10):\n",
    "    oracle = random_constant_function()\n",
    "    result = deutsch_jozsa(oracle)\n",
    "    assert(result == 'Constant')\n",
    "print('Constant OK.')\n",
    "    \n",
    "for i in range(100):\n",
    "    oracle = random_balanced_function()\n",
    "    result = deutsch_jozsa(oracle)\n",
    "    assert(result == 'Balanced')    \n",
    "print('Balanced OK.')"
   ]
  },
  {
   "cell_type": "code",
   "execution_count": 11,
   "metadata": {},
   "outputs": [
    {
     "data": {
      "text/plain": [
       "(1+0j)"
      ]
     },
     "execution_count": 11,
     "metadata": {},
     "output_type": "execute_result"
    }
   ],
   "source": [
    "a = np.array([0, 1j])\n",
    "print(np.dot(a.conj(), a))\n"
   ]
  },
  {
   "cell_type": "code",
   "execution_count": null,
   "metadata": {},
   "outputs": [],
   "source": []
  }
 ],
 "metadata": {
  "kernelspec": {
   "display_name": "Python 3",
   "language": "python",
   "name": "python3"
  },
  "language_info": {
   "codemirror_mode": {
    "name": "ipython",
    "version": 3
   },
   "file_extension": ".py",
   "mimetype": "text/x-python",
   "name": "python",
   "nbconvert_exporter": "python",
   "pygments_lexer": "ipython3",
   "version": "3.8.5"
  }
 },
 "nbformat": 4,
 "nbformat_minor": 4
}
