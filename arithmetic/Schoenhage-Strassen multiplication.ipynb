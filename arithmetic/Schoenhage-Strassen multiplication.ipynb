{
 "cells": [
  {
   "cell_type": "markdown",
   "id": "36abff2e",
   "metadata": {},
   "source": [
    "## Schönhage-Strassen multiplication\n",
    "\n",
    "Implemenation of a classical version of a quantum algorithm for multiplying 2 integers, described in [this paper](https://ieeexplore.ieee.org/abstract/document/10138719).\n",
    "\n",
    "*Dmytro Fedoriaka, December 2024.*\n"
   ]
  },
  {
   "cell_type": "code",
   "execution_count": 1,
   "id": "bd72f799",
   "metadata": {},
   "outputs": [
    {
     "name": "stdout",
     "output_type": "stream",
     "text": [
      "OK\n"
     ]
    }
   ],
   "source": [
    "import math \n",
    "import random\n",
    "\n",
    "# Input parameters. \n",
    "# Must be selected so that n=2^l*M bits are enough to represent the output AB.\n",
    "M,l = 16, 4\n",
    "\n",
    "# Compute all the constants.\n",
    "D = 2**l\n",
    "n=D*M\n",
    "assert D <= M\n",
    "M1 = int(math.ceil((2*M+l+2)/D))\n",
    "n1 = D*M1\n",
    "assert 2*M+l+2 <= n1 < 4*M\n",
    "N=2**n1+1\n",
    "assert N>=2**(2*M+l+2)+1\n",
    "#sqrt_g = 2**M1\n",
    "g = 2**(2*M1)\n",
    "g_inv = 2**((-2*M1)%(2*n1)) % N\n",
    "D_inv = 2**(2*n1-l) % N\n",
    "W = [(2**(k*M1))%N for k in range(D)]\n",
    "W_inv = [(2**((-k*M1)%(2*n1)))%N for k in range(D)]\n",
    "\n",
    "# Check that inverses are computed correctly.\n",
    "assert((g*g_inv)%N==1)\n",
    "assert((D*D_inv)%N==1)\n",
    "for i in range(D):\n",
    "    assert (W[i]*W_inv[i])%N == 1\n",
    "\n",
    "# Check that g is indeed the Dth principal root of unity of N (Def 1).\n",
    "for a in range(1,D):\n",
    "    assert (g**a)%N != 1\n",
    "assert (g**D)%N == 1\n",
    "for a in range(1,D):\n",
    "    assert sum(g**(a*t) for t in range(D))%N == 0\n",
    "    \n",
    "# Faster, recursive implementation of G.\n",
    "def FFT(X, cur_g):\n",
    "    if len(X)==1:\n",
    "        return X\n",
    "    cur_g_squared = (cur_g**2)%N\n",
    "    FFT_even = FFT(X[0::2], cur_g_squared)\n",
    "    FFT_odd = FFT(X[1::2], cur_g_squared)\n",
    "    ans = [0]*len(X)\n",
    "    for i in range(len(X)//2):\n",
    "        e = FFT_even[i]\n",
    "        o = (FFT_odd[i]* (cur_g**i) ) %N\n",
    "        ans[i] = (e+o)%N\n",
    "        ans[i+len(X)//2]=(e-o)%N\n",
    "    return ans\n",
    "    \n",
    "# Operator G_{N,g}(X), by defintion.\n",
    "def G(X):\n",
    "    assert len(X)==D\n",
    "    ans = [sum(X[t]*g**(t*m) for t in range(D))%N for m in range(D)]\n",
    "    assert ans == FFT(X, g)\n",
    "    return ans\n",
    "\n",
    "# Operator G^{-1}_{N,g}(X), by defintion.\n",
    "def G_inv(X):\n",
    "    assert len(X)==D\n",
    "    return [D_inv * sum(X[t]*g_inv**(t*m) for t in range(D))%N for m in range(D)]    \n",
    "\n",
    "# Negative cyclic convolution, by defintion.\n",
    "def NCC(A, B):\n",
    "    assert len(A) == len(B) == D\n",
    "    ans = [0] * D\n",
    "    for k in range(D):\n",
    "        for i in range(D):\n",
    "            j = k-i\n",
    "            if j>=0:\n",
    "                ans[k] += A[i]*B[j]\n",
    "            else:\n",
    "                ans[k] -= A[i]*B[j+D]\n",
    "    return [x % N for x in ans]\n",
    "\n",
    "# Pointwise multiplication.\n",
    "def mul_pw(A, B):\n",
    "    assert len(A) == len(B) == D\n",
    "    return [(A[i]*B[i])%N for i in range(D)]\n",
    "\n",
    "# Converts integer to a sequence.\n",
    "def num_to_seq(A):\n",
    "    return [(A>>(M*i))%(2**M) for i in range(D)]\n",
    "\n",
    "# Converts sequence to the integer it represents.\n",
    "def seq_to_num(A):\n",
    "    assert len(A) == D\n",
    "    ans = 0\n",
    "    for i in range(D):\n",
    "        ans += A[i]<<(M*i)\n",
    "    return ans\n",
    "    \n",
    "def validate(A, B):\n",
    "    product = A*B\n",
    "    assert product <= 2**n   # \"so we will pick a large enough n such that AB < 2^n + 1.\"\n",
    "\n",
    "    A_seq = num_to_seq(A)\n",
    "    B_seq = num_to_seq(B)\n",
    "    conv = NCC(A_seq, B_seq)\n",
    "\n",
    "    # Verify equation (2).\n",
    "    assert conv == mul_pw(W_inv, G_inv(mul_pw(G(mul_pw(W, A_seq)), G(mul_pw(W, B_seq)))))\n",
    "\n",
    "    # Verify equation (3).\n",
    "    assert(A*B == seq_to_num(conv))\n",
    "\n",
    "for _ in range(1000):\n",
    "    A = random.randint(0, 2**(n//2)-1)\n",
    "    B = random.randint(0, 2**(n//2)-1)\n",
    "    validate(A,B)\n",
    "print(\"OK\")"
   ]
  },
  {
   "cell_type": "code",
   "execution_count": 3,
   "id": "c865d076",
   "metadata": {},
   "outputs": [
    {
     "data": {
      "text/plain": [
       "(48, 3)"
      ]
     },
     "execution_count": 3,
     "metadata": {},
     "output_type": "execute_result"
    }
   ],
   "source": [
    "n1,M1"
   ]
  },
  {
   "cell_type": "code",
   "execution_count": null,
   "id": "b8916c09",
   "metadata": {},
   "outputs": [],
   "source": []
  }
 ],
 "metadata": {
  "kernelspec": {
   "display_name": "Python 3 (ipykernel)",
   "language": "python",
   "name": "python3"
  },
  "language_info": {
   "codemirror_mode": {
    "name": "ipython",
    "version": 3
   },
   "file_extension": ".py",
   "mimetype": "text/x-python",
   "name": "python",
   "nbconvert_exporter": "python",
   "pygments_lexer": "ipython3",
   "version": "3.12.3"
  }
 },
 "nbformat": 4,
 "nbformat_minor": 5
}
