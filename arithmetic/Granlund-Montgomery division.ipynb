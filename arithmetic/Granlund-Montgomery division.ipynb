{
 "cells": [
  {
   "cell_type": "markdown",
   "id": "7725d024",
   "metadata": {},
   "source": [
    "## Granlund-Montgomery division\n",
    "\n",
    "*Dmytro Fedoriaka, December 2024.*\n",
    "\n",
    "This is an implementation of the integer division algorithm described in [this paper](https://dl.acm.org/doi/abs/10.1145/178243.178249)."
   ]
  },
  {
   "cell_type": "code",
   "execution_count": 1,
   "id": "a6c696ee",
   "metadata": {},
   "outputs": [],
   "source": [
    "import math\n",
    "\n",
    "N=3\n",
    "\n",
    "def SLL(x, i): \n",
    "    return (x<<i)%(2**N)\n",
    " \n",
    "def SRL(x, i):\n",
    "    return x>>i\n",
    "\n",
    "def XSIGN(x):\n",
    "    assert 0<= x < 2**N\n",
    "    return -1 if x>=2**(N-1) else 0\n",
    "\n",
    "def LOW(x):\n",
    "    x%=(4**N)\n",
    "    return x%(2**N)\n",
    "\n",
    "def HIGH(x):\n",
    "    return x//(2**N)\n",
    "\n",
    "def AND(x,y):\n",
    "    return x&y\n",
    "\n",
    "\n",
    "def divide(z, d, debug=False):\n",
    "    assert z < 2**(2*N)\n",
    "    assert d < 2**N\n",
    "    assert (z//d)<2**N\n",
    "    \n",
    "    l = 1+math.floor(math.log2(d))\n",
    "    assert 2**(l-1) <=d < 2**l\n",
    "    \n",
    "    n0 = z%(2**(l-1))\n",
    "    n1 = (z>>(l-1))%2\n",
    "    n2 = z>>l\n",
    "    assert z == n2*2**l + n1*2**(l-1) + n0\n",
    "    \n",
    "    m1 = (2**N*(2**l-d)-1)//d\n",
    "    assert m1 == ((2**(N+l)-1)//d)-2**N\n",
    "    dnorm = d * 2**(N-l)\n",
    "    assert n2 == SLL(HIGH(z), N-l) + SRL(LOW(z), l)\n",
    "    n10 = SLL(LOW(z), N-l)\n",
    "    assert n10 == n1*2**(N-1) + n0*2**(N-l)\n",
    "    assert n1 == -XSIGN(n10)\n",
    "    nadj = n10+n1*(dnorm - 2**N)\n",
    "    assert nadj == n1*(dnorm-2**(N-1)) + n0*2**(N-l)\n",
    "    q1 = n2+HIGH(m1*(n2 + n1) + nadj)\n",
    "    dr = z - q1 * d - d\n",
    "    q = HIGH(dr) + 1 + q1\n",
    "    r = LOW(dr)+AND(d-2**N, HIGH(dr))\n",
    "    if debug:\n",
    "        print(f\"l={l},m'={m1},dnorm={dnorm},d_c={dnorm - 2**N}\")\n",
    "        print(f\"n0={n0},n1={n1},n2={n2},n10={n10},nadj={nadj}\")\n",
    "        print(f\"q1={q1}, dr={dr}, q={q}, r={r}\")\n",
    "        print(f\"nadj+m1*(n2+n1)={nadj+m1*(n2+n1)}\")\n",
    "    return q, r"
   ]
  },
  {
   "cell_type": "code",
   "execution_count": 2,
   "id": "6f95d453",
   "metadata": {},
   "outputs": [
    {
     "name": "stdout",
     "output_type": "stream",
     "text": [
      "l=3,m'=7,dnorm=4,d_c=-4\n",
      "n0=1,n1=0,n2=1,n10=1,nadj=1\n",
      "q1=2, dr=-3, q=2, r=1\n",
      "nadj+m1*(n2+n1)=8\n",
      "OK\n"
     ]
    }
   ],
   "source": [
    "divide(9,4,debug=True)\n",
    "\n",
    "for a in range(0, 2**N):\n",
    "    for b in range(1, 2**N):\n",
    "        assert divide(a, b) == (a//b, a%b)\n",
    "print(\"OK\")"
   ]
  }
 ],
 "metadata": {
  "kernelspec": {
   "display_name": "Python 3 (ipykernel)",
   "language": "python",
   "name": "python3"
  },
  "language_info": {
   "codemirror_mode": {
    "name": "ipython",
    "version": 3
   },
   "file_extension": ".py",
   "mimetype": "text/x-python",
   "name": "python",
   "nbconvert_exporter": "python",
   "pygments_lexer": "ipython3",
   "version": "3.12.3"
  }
 },
 "nbformat": 4,
 "nbformat_minor": 5
}
