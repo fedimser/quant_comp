{
 "cells": [
  {
   "cell_type": "markdown",
   "metadata": {},
   "source": [
    "# Schmidt decomposition of a 4x4 matrix\n",
    "\n",
    "Given 4x4 matrix, represent it as linear combintation of tensor products of 2x2 matrices.\n",
    "\n",
    "This problem can be solved using KAK decomposition, according to [this paper](https://arxiv.org/ftp/arxiv/papers/1006/1006.3412.pdf)."
   ]
  },
  {
   "cell_type": "code",
   "execution_count": 1,
   "metadata": {},
   "outputs": [],
   "source": [
    "import numpy as np\n",
    "import cirq\n",
    "from scipy.stats import unitary_group"
   ]
  },
  {
   "cell_type": "code",
   "execution_count": 2,
   "metadata": {},
   "outputs": [],
   "source": [
    "PAULI_BASIS = [op._unitary_() for op in [cirq.I, cirq.X, cirq.Y, cirq.Z]]\n",
    "\n",
    "def is_unitary(U):\n",
    "    n = U.shape[0]\n",
    "    return np.allclose(U @ U.T.conj(), np.eye(n))\n",
    "\n",
    "def schmidt_decomposition(U, atol=1e-9):\n",
    "    \"\"\"Calculates Schmidt decomposition of 4x4 unitary matrix.\n",
    "    \n",
    "    Represents unitary matrix U as linear combination of tensor products of 2x2 unitaries:\n",
    "        U = sum_i z_i * A_i ⊗ B_i,\n",
    "    where A_i, B_i - 2x2 unitary matrices, z_i - positive and real, sum_i |z_i|^2 = 1.\n",
    "    Sum has 1, 2, or 4 terms.\n",
    "    \n",
    "    Args:\n",
    "        U: Unitary matrix to decompose.\n",
    "        atol: Ignore coefficients whose absolute value is smaller than this. Defaults to 1e-9.\n",
    "\n",
    "    Returns:\n",
    "        Dict with keys `first_qubit_ops`, `second_qubit_ops` and `koeffs`, containing values of\n",
    "        A_i, B_i and z_i respectively.\n",
    "    \"\"\"\n",
    "    assert U.shape == (4, 4)\n",
    "    assert is_unitary(U)\n",
    "    \n",
    "    kak = cirq.kak_decomposition(U)\n",
    "    c1, c2, c3 = [2 * c for c in kak.interaction_coefficients]\n",
    "    B0, B1 = kak.single_qubit_operations_before\n",
    "    A0, A1 = kak.single_qubit_operations_after\n",
    "    g = kak.global_phase\n",
    "    \n",
    "    # Caculate coefficients.\n",
    "    z = [\n",
    "        0.5  * (np.exp(0.5j*c1) * np.cos(0.5*(c3-c2)) + np.exp(-0.5j*c1) * np.cos(0.5*(c3+c2))),\n",
    "        0.5  * (np.exp(0.5j*c1) * np.cos(0.5*(c3-c2)) - np.exp(-0.5j*c1) * np.cos(0.5*(c3+c2))),\n",
    "        -0.5j* (np.exp(0.5j*c1) * np.sin(0.5*(c3-c2)) - np.exp(-0.5j*c1) * np.sin(0.5*(c3+c2))),\n",
    "        0.5j * (np.exp(0.5j*c1) * np.sin(0.5*(c3-c2)) + np.exp(-0.5j*c1) * np.sin(0.5*(c3+c2))),\n",
    "    ]\n",
    "     \n",
    "    # Throw away zero coefficients.\n",
    "    take = [i for i in range(4) if abs(z[i]) > atol]\n",
    "    z = [z[i] for i in take]\n",
    "    a = [g * A0 @ PAULI_BASIS[i] @ B0 for i in take]\n",
    "    b = [A1 @ PAULI_BASIS[i] @ B1 for i in take]\n",
    "    \n",
    "    \n",
    "    # Make coefficients real.\n",
    "    for i in range(len(z)):\n",
    "        a[i] *= (z[i] / np.abs(z[i]))\n",
    "        z[i] = np.abs(z[i])\n",
    "        \n",
    "    return {\n",
    "        'first_qubit_ops': a, \n",
    "        'second_qubit_ops': b, \n",
    "        'koeffs': np.array(z),\n",
    "    }"
   ]
  },
  {
   "cell_type": "code",
   "execution_count": 3,
   "metadata": {},
   "outputs": [
    {
     "name": "stdout",
     "output_type": "stream",
     "text": [
      "OK\n"
     ]
    }
   ],
   "source": [
    "def test_schmidt_decomposition(U):\n",
    "    sd = schmidt_decomposition(U)\n",
    "    a = sd['first_qubit_ops']\n",
    "    b = sd['second_qubit_ops']\n",
    "    k = sd['koeffs']\n",
    "    n = len(k)\n",
    "    \n",
    "    assert (n==1 or n==2 or n==4)\n",
    "    assert len(a) == n\n",
    "    assert len(b) == n\n",
    "    for i in range(n):\n",
    "        assert is_unitary(a[i])\n",
    "        assert is_unitary(b[i])\n",
    "        assert np.allclose(k[i], np.abs(k[i]))\n",
    "    assert np.allclose(np.linalg.norm(k), 1)    \n",
    "    \n",
    "    U_restored = sum([k[i] * np.kron(a[i], b[i]) for i in range(len(k))])\n",
    "    assert np.allclose(U, U_restored)\n",
    "\n",
    "CNOT = np.array([\n",
    "    [1, 0, 0, 0],\n",
    "    [0, 1, 0, 0],\n",
    "    [0, 0, 0, 1],\n",
    "    [0, 0, 1, 0],\n",
    "])\n",
    "test_schmidt_decomposition(CNOT)\n",
    "\n",
    "for mx1 in PAULI_BASIS:\n",
    "    for mx2 in PAULI_BASIS:\n",
    "        test_schmidt_decomposition(np.kron(mx1, mx2))\n",
    "\n",
    "for _ in range(50):\n",
    "    U = np.kron(unitary_group.rvs(2), unitary_group.rvs(2))\n",
    "    test_schmidt_decomposition(U)\n",
    "    U = unitary_group.rvs(4)\n",
    "    test_schmidt_decomposition(U)\n",
    "    \n",
    "print(\"OK\")"
   ]
  }
 ],
 "metadata": {
  "kernelspec": {
   "display_name": "Python 3",
   "language": "python",
   "name": "python3"
  },
  "language_info": {
   "codemirror_mode": {
    "name": "ipython",
    "version": 3
   },
   "file_extension": ".py",
   "mimetype": "text/x-python",
   "name": "python",
   "nbconvert_exporter": "python",
   "pygments_lexer": "ipython3",
   "version": "3.7.5"
  }
 },
 "nbformat": 4,
 "nbformat_minor": 2
}
